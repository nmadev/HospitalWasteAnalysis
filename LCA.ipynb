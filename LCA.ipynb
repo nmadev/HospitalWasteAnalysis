{
 "cells": [
  {
   "cell_type": "markdown",
   "metadata": {},
   "source": [
    "# Hospital Waste Management LCA"
   ]
  },
  {
   "cell_type": "code",
   "execution_count": 1,
   "metadata": {},
   "outputs": [],
   "source": [
    "import pandas as pd\n",
    "import uuid\n",
    "import math\n",
    "from datetime import datetime\n",
    "import numpy as np\n",
    "import sys\n",
    "\n",
    "import matplotlib.pyplot as plt\n",
    "import seaborn as sns\n",
    "from matplotlib import rcParams\n",
    "import plotly.graph_objects as go\n",
    "\n",
    "import cvxpy as cp\n",
    "import gurobipy"
   ]
  },
  {
   "cell_type": "markdown",
   "metadata": {},
   "source": [
    "## Preliminary assumptions\n",
    "\n",
    "For this, we choose to ignore the financial impacts of transporting waste from the hospital to the various disposal facilities. This is because we are focusing on large hospitals that are located in cities with these facilities easily accessible. Because of the locality of these facilities econonmic of the transportation."
   ]
  },
  {
   "cell_type": "markdown",
   "metadata": {},
   "source": [
    "# Name Definitions"
   ]
  },
  {
   "cell_type": "code",
   "execution_count": 2,
   "metadata": {},
   "outputs": [],
   "source": [
    "disposal_method_names = [\"Landfill\", \"Recycling\", \"Waste-to-Energy\", \"Composting\", \"Reuse\"]\n",
    "composition_type_names = [\"Hard plastic\", \"Soft plastic\", \"Paper\", \"Food\", \"Textiles\", \"Glass\", \"Metal\", \"Electronic waste\", \"Sharps\"]"
   ]
  },
  {
   "cell_type": "code",
   "execution_count": 3,
   "metadata": {},
   "outputs": [],
   "source": [
    "# print utility\n",
    "def print_mat(mat, rows, cols, round=2, title=''):\n",
    "    print(title)\n",
    "    temp_df = pd.DataFrame(mat, rows, cols)\n",
    "    print(temp_df.round(round))"
   ]
  },
  {
   "cell_type": "markdown",
   "metadata": {},
   "source": [
    "# Alternative Solutions\n",
    "\n",
    "1) Replace single-use hard plastics with glass/metal autoclaving in hospital facility\n",
    "    * Hard Plastics reduced by 30 wt.\\%, shifted to glass and metal\n",
    "        * Hard Plastics --> 19.907 >>> 13.93\n",
    "        * Glass         -->  1.206 >>> 5.685\n",
    "        * Metal         -->  0.402 >>> 1.895 \n",
    "        * Glass and Metal all non-recycled shifted to sanitizated and reuse\n",
    "2) Implement reusable gowns to entirely replace plastic single-use gowns\n",
    "    * Soft-Plastics --> Reduced by 2\\%\n",
    "        * 46.081    >>> 44.081\n",
    "    * Textiles      --> Increased by 2\\%\n",
    "        * 3.56      >>> 5.56\n",
    "    * Textiles      --> Fully sanitized and reused\n",
    "3) Seperate collection for compostable waste\n",
    "    * All non-RMW food is composted\n",
    "        * Landfill  >>>  1.495\n",
    "        * Compost   >>> 98.505\n",
    "4) Prioritize in order:\n",
    "    * Compost\n",
    "    * Santize and Reuse\n",
    "    * Recycle\n",
    "    * WtE\n",
    "    * Landfill\n",
    "7) Replace soft single-use plastics with biodegradable single use plastics\n",
    "    * Not modeled"
   ]
  },
  {
   "cell_type": "markdown",
   "metadata": {},
   "source": [
    "## Waste Stream Composition Scenarios"
   ]
  },
  {
   "cell_type": "code",
   "execution_count": 4,
   "metadata": {},
   "outputs": [
    {
     "name": "stdout",
     "output_type": "stream",
     "text": [
      "Baseline Scenario --------------------------------------------------------\n",
      "\n",
      "Material\t\tMass % Total    RMW % Material  Recycle % Material\n",
      "--------------------------------------------------------------------------\n",
      "Hard plastic    \t19.907\t\t13.587\t\t1.929\n",
      "Soft plastic    \t46.081\t\t4.39\t\t0.0\n",
      "Paper           \t18.784\t\t2.513\t\t22.673\n",
      "Food            \t6.308\t\t1.495\t\t0.0\n",
      "Textiles        \t3.56\t\t20.158\t\t0.0\n",
      "Glass           \t1.206\t\t2.205\t\t12.854\n",
      "Metal           \t0.402\t\t1.512\t\t7.183\n",
      "Electronic waste\t0.125\t\t4.878\t\t0.0\n",
      "Sharps          \t3.626\t\t100.0\t\t0.0\n"
     ]
    }
   ],
   "source": [
    "# types of waste\n",
    "# Columns (must sum to 1.0):\n",
    "# 0 - Hard plastic\n",
    "# 1 - Soft plastic\n",
    "# 2 - Paper\n",
    "# 3 - Food\n",
    "# 4 - Textiles\n",
    "# 5 - Glass\n",
    "# 6 - Metal\n",
    "# 7 - Electronic waste\n",
    "# 8 - Sharps\n",
    "\n",
    "def normalize(arr):\n",
    "    return arr / arr.sum()\n",
    "\n",
    "# Baseline Input Scenario 0 (From Hsu et al., 2020)\n",
    "print(\"Baseline Scenario \" + '-' * 56 + '\\n')\n",
    "waste_composition_0 = np.array([130.93, 303.08, 123.546, 41.485,\n",
    "                               23.415, 7.935, 2.645, 0.82, 23.85])\n",
    "waste_composition_0_RWM = np.array([17.79, 13.305, 3.105, 0.62,\n",
    "                                    4.72, 0.175, 0.04, 0.04, 23.85])\n",
    "waste_composition_0_Rec = np.array([2.525, 0., 28.011, 0.,\n",
    "                                    0., 1.02, 0.19, 0., 0.])\n",
    "waste_RMW_prop_0 = waste_composition_0_RWM / waste_composition_0\n",
    "waste_Rec_prop_0 = waste_composition_0_Rec / waste_composition_0\n",
    "waste_composition_0 = normalize(waste_composition_0)\n",
    "print(\"Material\\t\\tMass % Total    RMW % Material  Recycle % Material\")\n",
    "print(\"-\" * 74)\n",
    "for i in range(len(composition_type_names)):\n",
    "    print(composition_type_names[i].ljust(16, ' ') + '\\t' + str((waste_composition_0[i] * 100).round(3)) + '\\t\\t' + \n",
    "          str((100 * waste_RMW_prop_0[i]).round(3)) + '\\t\\t' + str((100 * waste_Rec_prop_0[i]).round(3)))\n",
    "\n",
    "# Input Scenario 1 (Single-Use Hard Plastics -> Glass + Metal)\n",
    "waste_composition_1 = np.copy(waste_composition_0) * 100\n",
    "waste_composition_1[0] = 13.93\n",
    "waste_composition_1[5] = 5.685\n",
    "waste_composition_1[6] = 1.895\n",
    "waste_composition_1 = normalize(waste_composition_1)\n",
    "\n",
    "# Input Scenario 2 (Implement reusable gowns)\n",
    "waste_composition_2 = np.copy(waste_composition_0) * 100\n",
    "waste_composition_2[1] -= 2\n",
    "waste_composition_2[4] += 2\n",
    "waste_composition_2 = normalize(waste_composition_2)\n",
    "\n",
    "# Input Scenario 3 (Both practices implemented)\n",
    "waste_composition_3 = np.copy(waste_composition_1) * 100\n",
    "waste_composition_3[1] -= 2\n",
    "waste_composition_3[4] += 2\n",
    "waste_composition_3 = normalize(waste_composition_3)\n",
    "\n",
    "waste_compositions = [waste_composition_0, waste_composition_1,\n",
    "                      waste_composition_2, waste_composition_3]\n",
    "\n",
    "waste_composition_labels = ['Baseline', 'Replace Hard Plastics', 'Reusable Gowns', 'Combine Methods']"
   ]
  },
  {
   "cell_type": "markdown",
   "metadata": {},
   "source": [
    "## Waste Disposal Method Scenarios"
   ]
  },
  {
   "cell_type": "code",
   "execution_count": 5,
   "metadata": {},
   "outputs": [
    {
     "name": "stdout",
     "output_type": "stream",
     "text": [
      "Priority Tot\n",
      "                 Hard plastic  Soft plastic  Paper  Food  Textiles  Glass  \\\n",
      "Landfill                 0.14           1.0    0.0  0.00       0.0   0.00   \n",
      "Recycling                0.86           0.0    0.0  0.00       0.0   0.98   \n",
      "Waste-to-Energy          0.00           0.0    1.0  0.01       1.0   0.02   \n",
      "Composting               0.00           0.0    0.0  0.99       0.0   0.00   \n",
      "Reuse                    0.00           0.0    0.0  0.00       0.0   0.00   \n",
      "\n",
      "                 Metal  Electronic waste  Sharps  \n",
      "Landfill           0.0               1.0     0.0  \n",
      "Recycling          0.0               0.0     0.0  \n",
      "Waste-to-Energy    1.0               0.0     1.0  \n",
      "Composting         0.0               0.0     0.0  \n",
      "Reuse              0.0               0.0     0.0  \n"
     ]
    }
   ],
   "source": [
    "# Waste Disposal Methods\n",
    "# Rows:\n",
    "# 0 - Landfill\n",
    "# 1 - Recycling\n",
    "# 2 - WtE (incineration)\n",
    "# 3 - Composting\n",
    "# 4 - Sanitize and Reuse\n",
    "# Columns (must sum to 1.0):\n",
    "# 0 - Hard plastic\n",
    "# 1 - Soft plastic\n",
    "# 2 - Paper\n",
    "# 3 - Food\n",
    "# 4 - Textiles\n",
    "# 5 - Glass\n",
    "# 6 - Metal\n",
    "# 7 - Electronic waste\n",
    "# 8 - Sharps\n",
    "\n",
    "# Data must be decided on by the team\n",
    "\n",
    "# Worst-case method 0 (all landfill, hazardous waste to incinerators)\n",
    "waste_treatment_0 = np.array([np.array([1.0] * 9) - waste_Rec_prop_0,\n",
    "                              waste_Rec_prop_0,\n",
    "                              [0.00, 0.00, 0.00, 0.00, 0.00, 0.00, 0.00, 0.00, 0.00],\n",
    "                              [0.00, 0.00, 0.00, 0.00, 0.00, 0.00, 0.00, 0.00, 0.00],\n",
    "                              [0.00, 0.00, 0.00, 0.00, 0.00, 0.00, 0.00, 0.00, 0.00]])\n",
    "\n",
    "# Waste treatment method 1 - Shift non-recycled glass+metal to sanitize and reuse\n",
    "waste_treatment_1 = np.copy(waste_treatment_0)\n",
    "waste_treatment_1[4][5] = waste_treatment_1[0][5]\n",
    "waste_treatment_1[4][6] = waste_treatment_1[0][6]\n",
    "waste_treatment_1[0][5] = 0.\n",
    "waste_treatment_1[0][6] = 0.\n",
    "\n",
    "# Waste treatment method 2 - Shift from single-use gowns to reusable gowns\n",
    "waste_treatment_2 = np.copy(waste_treatment_0)\n",
    "waste_treatment_2[4][4] = waste_treatment_2[0][4]\n",
    "waste_treatment_2[0][4] = 0.\n",
    "\n",
    "# Waste treatment method 3 - Compost food\n",
    "waste_treatment_3 = np.copy(waste_treatment_0)\n",
    "waste_treatment_3[0][3] = 0.\n",
    "waste_treatment_3[2][3] = waste_RMW_prop_0[3]\n",
    "waste_treatment_3[3][3] = 1. - waste_RMW_prop_0[3]\n",
    "\n",
    "# Waste treatment method 4 - All methods together\n",
    "delta_10 = waste_treatment_1 - waste_treatment_0\n",
    "delta_20 = waste_treatment_2 - waste_treatment_0\n",
    "delta_30 = waste_treatment_3 - waste_treatment_0\n",
    "waste_treatment_4 = np.copy(waste_treatment_0) + delta_10 + delta_20 + delta_30\n",
    "\n",
    "# Waste treatment method 5 - Both methods + Prioritize Minimizing CO2 Emissions\n",
    "waste_treatment_5 = np.copy(waste_treatment_3)\n",
    "# Change hard plastic landfilling to sanitization and reuse\n",
    "waste_treatment_5[0][0] = 0.\n",
    "waste_treatment_5[1][0] = 0.\n",
    "waste_treatment_5[4][0] = 1.\n",
    "# Change paper to WtE\n",
    "waste_treatment_5[0][2] = 0.\n",
    "waste_treatment_5[1][2] = 0.\n",
    "waste_treatment_5[2][2] = 1.\n",
    "# Change food to full composting (RMW to WtE)\n",
    "waste_treatment_5[0][3] = 0.\n",
    "waste_treatment_5[2][3] = waste_RMW_prop_0[3]\n",
    "waste_treatment_5[3][3] = 1. - waste_RMW_prop_0[3]\n",
    "# Change textiles to reuse\n",
    "waste_treatment_5[0][4] = 0.\n",
    "waste_treatment_5[4][4] = 1.\n",
    "# Change glass to reuse\n",
    "waste_treatment_5[0][5] = 0.\n",
    "waste_treatment_5[1][5] = 0.\n",
    "waste_treatment_5[4][5] = 1.\n",
    "# Change metals to reuse\n",
    "waste_treatment_5[0][6] = 0.\n",
    "waste_treatment_5[1][6] = 0.\n",
    "waste_treatment_5[4][6] = 1.\n",
    "# Electronic Waste kept the same\n",
    "# Change sharps to sterilization and reuse\n",
    "waste_treatment_5[0][8] = 0.\n",
    "waste_treatment_5[4][8] = 1.\n",
    "\n",
    "# Waste treatment method 6 - Both methods + Prioritize Minimizing Overall Impact\n",
    "waste_treatment_6 = np.copy(waste_treatment_3)\n",
    "# Change hard plastic landfilling to recycling (RMW to landfill)\n",
    "waste_treatment_6[1][0] = 1. - waste_RMW_prop_0[0]\n",
    "waste_treatment_6[0][0] = waste_RMW_prop_0[0]\n",
    "# Change paper to full WtE\n",
    "waste_treatment_6[0][2] = 0.\n",
    "waste_treatment_6[1][2] = 0.\n",
    "waste_treatment_6[2][2] = 1.\n",
    "# Change food to full composting (RMW to WtE)\n",
    "waste_treatment_6[0][3] = 0.\n",
    "waste_treatment_6[2][3] = waste_RMW_prop_0[3]\n",
    "waste_treatment_6[3][3] = 1. - waste_RMW_prop_0[3]\n",
    "# Change textiles to WtE\n",
    "waste_treatment_6[0][4] = 0.\n",
    "waste_treatment_6[2][4] = 1.\n",
    "# Change glass to recycling (RMW to WtE)\n",
    "waste_treatment_6[0][5] = 0.\n",
    "waste_treatment_6[1][5] = 1. - waste_RMW_prop_0[5]\n",
    "waste_treatment_6[2][5] = waste_RMW_prop_0[5]\n",
    "# Change metals to WtE\n",
    "waste_treatment_6[0][6] = 0.\n",
    "waste_treatment_6[1][6] = 0.\n",
    "waste_treatment_6[2][6] = 1.\n",
    "# Electronic Waste kept the same\n",
    "# Change sharps to WtE\n",
    "waste_treatment_6[0][8] = 0.\n",
    "waste_treatment_6[2][8] = 1.\n",
    "print_mat(waste_treatment_6, disposal_method_names, composition_type_names, title='Priority Tot')\n",
    "\n",
    "waste_methods = [waste_treatment_0, waste_treatment_1, waste_treatment_2,\n",
    "                 waste_treatment_3, waste_treatment_4, waste_treatment_5,\n",
    "                 waste_treatment_6]\n",
    "waste_method_labels = ['Baseline', 'Replace Hard Plastics', 'Reusable Gowns', 'Compost', 'Combine Methods', 'Prioritize Emissions', 'Prioritize Overall Impact']"
   ]
  },
  {
   "cell_type": "markdown",
   "metadata": {},
   "source": [
    "## Impact Factor Variables"
   ]
  },
  {
   "cell_type": "code",
   "execution_count": 6,
   "metadata": {},
   "outputs": [
    {
     "name": "stdout",
     "output_type": "stream",
     "text": [
      "0.0003380555 0.0003391755\n",
      "CO2 Impact 100 Years\n",
      "                 Hard plastic  Soft plastic      Paper       Food   Textiles  \\\n",
      "Landfill                 2.50          2.50       2.50       2.50       2.50   \n",
      "Recycling                1.98     110266.56       0.88  360264.81  360264.81   \n",
      "Waste-to-Energy          3.65          3.65       0.62       0.62       2.42   \n",
      "Composting          360264.81     360264.81  360264.81       0.17  360264.81   \n",
      "Reuse                    0.22     360231.00  360231.00  360231.00       0.20   \n",
      "\n",
      "                     Glass      Metal  Electronic waste     Sharps  \n",
      "Landfill              2.50       2.50              2.50       2.50  \n",
      "Recycling             0.18       0.51         360264.81  250000.36  \n",
      "Waste-to-Energy       0.58       0.58         110231.56       0.58  \n",
      "Composting       360264.81  360264.81         360264.81  360264.81  \n",
      "Reuse                 0.17       0.17         360231.00       0.19  \n",
      "CO2 Impact 20 Years\n",
      "                 Hard plastic  Soft plastic      Paper       Food   Textiles  \\\n",
      "Landfill                 2.50          2.50       2.50       2.50       2.50   \n",
      "Recycling                1.98     110266.67       0.88  360264.92  360264.92   \n",
      "Waste-to-Energy          3.65          3.65       0.62       0.62       2.42   \n",
      "Composting          360264.92     360264.92  360264.92       0.17  360264.92   \n",
      "Reuse                    0.22     360231.00  360231.00  360231.00       0.20   \n",
      "\n",
      "                     Glass      Metal  Electronic waste     Sharps  \n",
      "Landfill              2.50       2.50              2.50       2.50  \n",
      "Recycling             0.18       0.51         360264.92  250000.36  \n",
      "Waste-to-Energy       0.57       0.57         110231.56       0.57  \n",
      "Composting       360264.92  360264.92         360264.92  360264.92  \n",
      "Reuse                 0.17       0.17         360231.00       0.19  \n",
      "Total Impact 100 Years\n",
      "                 Hard plastic  Soft plastic        Paper         Food  \\\n",
      "Landfill               533.48        533.48       533.48       533.48   \n",
      "Recycling              482.94   20950751.55       273.12  68450419.05   \n",
      "Waste-to-Energy        757.29        757.29       181.34       181.34   \n",
      "Composting        68450380.58   68450380.58  68450380.58        98.96   \n",
      "Reuse                 1039.62   68444887.90  68444887.95  68444887.94   \n",
      "\n",
      "                    Textiles        Glass        Metal  Electronic waste  \\\n",
      "Landfill              533.48       533.48       533.48            533.48   \n",
      "Recycling        68450419.05       140.68       202.13       68450419.05   \n",
      "Waste-to-Energy       522.72       172.96       172.96       20944060.86   \n",
      "Composting       68450380.58  68450380.58  68450380.58       68450380.58   \n",
      "Reuse                1035.63      1030.50      1029.79       68444887.90   \n",
      "\n",
      "                      Sharps  \n",
      "Landfill              533.48  \n",
      "Recycling        47500173.48  \n",
      "Waste-to-Energy       172.96  \n",
      "Composting       68450380.58  \n",
      "Reuse                1033.41  \n",
      "Total Impact 20 Years\n",
      "                 Hard plastic  Soft plastic        Paper         Food  \\\n",
      "Landfill               533.47        533.47       533.47       533.47   \n",
      "Recycling              482.94   20950772.83       273.12  68450440.33   \n",
      "Waste-to-Energy        757.18        757.18       181.22       181.22   \n",
      "Composting        68450401.86   68450401.86  68450401.86        98.96   \n",
      "Reuse                 1039.62   68444887.90  68444887.95  68444887.94   \n",
      "\n",
      "                    Textiles        Glass        Metal  Electronic waste  \\\n",
      "Landfill              533.47       533.47       533.47            533.47   \n",
      "Recycling        68450440.33       140.68       202.13       68450440.33   \n",
      "Waste-to-Energy       522.60       172.84       172.84       20944060.75   \n",
      "Composting       68450401.86  68450401.86  68450401.86       68450401.86   \n",
      "Reuse                1035.63      1030.50      1029.79       68444887.90   \n",
      "\n",
      "                      Sharps  \n",
      "Landfill              533.47  \n",
      "Recycling        47500173.48  \n",
      "Waste-to-Energy       172.84  \n",
      "Composting       68450401.86  \n",
      "Reuse                1033.41  \n"
     ]
    }
   ],
   "source": [
    "# Emissions Factors\n",
    "# Rows:\n",
    "# 0 - Landfill\n",
    "# 1 - Recycling\n",
    "# 2 - WtE (incineration)\n",
    "# 3 - Composting\n",
    "# 4 - Sanitize and Reuse\n",
    "# Columns:\n",
    "# 0 - Hard plastic (HDPE)\n",
    "# 1 - Soft plastic (LDPE)\n",
    "# 2 - Paper\n",
    "# 3 - Food\n",
    "# 4 - Textiles\n",
    "# 5 - Glass\n",
    "# 6 - Metal\n",
    "# 7 - Electronic waste\n",
    "# 8 - Sharps\n",
    "\n",
    "# Data must be found for 'impact_cost' and 'impact_co2_eq'. 'impact_community' can be decided upon subjectively\n",
    "\n",
    "inf = sys.float_info.max\n",
    "inf = 100000\n",
    "\n",
    "# Metric ton to short ton\n",
    "mt_to_st = 1.10231\n",
    "\n",
    "# Social cost of carbon (USD/ton CO2-eq)\n",
    "social_cost_carbon = 190.0\n",
    "\n",
    "# Cost multiplier of RMW (for Landfill, WtE, Incinerator)\n",
    "RMW_cost_factor = 10.0\n",
    "\n",
    "# Emissions factor for landfills by mass (ton CO2-eq/ton MSW)\n",
    "landfill_emissions_factor = 2.5\n",
    "\n",
    "# Emissions factor for energy in PA (ton CO2-eq/kWh)\n",
    "energy_emissions_factor_20  = 1/2000. * (672.8 * 1. + 0.049 * 72. + 0.007 * 289.) / 1000.\n",
    "energy_emissions_factor_100 = 1/2000. * (672.8 * 1. + 0.049 * 25. + 0.007 * 298.) / 1000.\n",
    "print(energy_emissions_factor_100, energy_emissions_factor_20)\n",
    "\n",
    "# Additional tipping fee for RMW\n",
    "RMW_tipping_fee = 800.\n",
    "\n",
    "# Cost of process (values in $/short ton waste)\n",
    "impact_cost = np.array([[58.47] * 9,\n",
    "                        [106.0] * 9,\n",
    "                        [63.69] * 9,\n",
    "                        [67.53] * 9,\n",
    "                        [997.9] * 9])\n",
    "\n",
    "# CO2 Emissions of process (metric ton CO2-eq/short ton waste)\n",
    "impact_co2_eq = np.array([[0.02, 0.02, 0.02, 0.02, 0.02, 0.02, 0.02, 0.02, 0.02],\n",
    "                          [0.21,  inf, 0.07,  inf,  inf, 0.05, 0.23,  inf, 0.32],\n",
    "                          [2.80, 2.80, 0.05, 0.05, 1.68, 0.01, 0.01,  inf, 0.01],\n",
    "                          [ inf,  inf,  inf, 0.15,  inf,  inf,  inf,  inf,  inf],\n",
    "                          [0.15,  inf,  inf,  inf, 0.15, 0.15, 0.15,  inf, 0.15]])\n",
    "impact_co2_eq *= mt_to_st\n",
    "\n",
    "# Waste mass that ends up in landfills (short ton waste/short ton waste)\n",
    "impact_mass   = np.array([[1.00, 1.00, 1.00, 1.00, 1.00, 1.00, 1.00, 1.00, 1.00],      \n",
    "                          [0.70, 0.70, 0.32,  inf,  inf, 0.05, 0.10,  inf,  inf],\n",
    "                          [0.30, 0.30, 0.30, 0.30, 0.30, 0.30, 0.30, 0.30, 0.30],\n",
    "                          [ inf,  inf,  inf, 0.00,  inf,  inf,  inf,  inf,  inf],\n",
    "                          [0.0217,  inf,  inf,  inf, 0.0133, 0.0025, 0.001,  inf, 0.00862]])\n",
    "\n",
    "# Energy impact, negative indicates energy production (kWh/short ton waste)\n",
    "impact_energy   = np.array([[-65., -65., -65., -65., -65., -65., -65., -65., -65.],\n",
    "                            [7.08,  inf, 7.08,  inf,  inf, 7.08, 7.08,  inf, 7.08],\n",
    "                            [-550, -550, -550, -550, -550, -550, -550, -550, -550],\n",
    "                            [ inf,  inf,  inf, 0.15,  inf,  inf,  inf,  inf,  inf],\n",
    "                            [0.02, 0.02, 0.80, 0.58, 0.02, 0.02, 0.02, 0.02, 0.02]])\n",
    "\n",
    "# Total CO2 impact\n",
    "impact_co2_total_100 = (impact_energy * energy_emissions_factor_100) + impact_co2_eq + (impact_mass * landfill_emissions_factor)\n",
    "print_mat(impact_co2_total_100, disposal_method_names, composition_type_names, title='CO2 Impact 100 Years')\n",
    "\n",
    "impact_co2_total_20 = (impact_energy * energy_emissions_factor_20) + impact_co2_eq + (impact_mass * landfill_emissions_factor)\n",
    "print_mat(impact_co2_total_20, disposal_method_names, composition_type_names, title='CO2 Impact 20 Years')\n",
    "\n",
    "# Total impact of process\n",
    "impact_total_100  = ((impact_energy * energy_emissions_factor_100) + impact_co2_eq + (impact_mass * landfill_emissions_factor)) * social_cost_carbon + impact_cost\n",
    "print_mat(impact_total_100, disposal_method_names, composition_type_names, title='Total Impact 100 Years')\n",
    "\n",
    "impact_total_20  = ((impact_energy * energy_emissions_factor_20) + impact_co2_eq + (impact_mass * landfill_emissions_factor)) * social_cost_carbon + impact_cost\n",
    "print_mat(impact_total_20, disposal_method_names, composition_type_names, title='Total Impact 20 Years')"
   ]
  },
  {
   "cell_type": "markdown",
   "metadata": {},
   "source": [
    "Municipal Solid Waste (MSW) Landfill\t$60.34\n",
    "MSW Recycling Center\t$52.33\n",
    "MSW Waste-to-Energy Facility\t$102.13\n",
    "Composting Facility\t$20-$80\n",
    "Incinerator Facility\t$100-$200"
   ]
  },
  {
   "cell_type": "markdown",
   "metadata": {},
   "source": [
    "Data sources:\n",
    "\n",
    "Tipping fees:\n",
    "* Tipping fee (landfill, PA, 2020): https://assets.website-files.com/602b605a94315c491a4fb4b8/610aed49f0ef85f4566dbe3f_Tipping-Fees-Data-Summary%20Jan%202021.pdf\n",
    "* Tipping fee (recycling, PA): https://www.phila.gov/media/20210614135759/Municipal-Waste-Management-Plan-appendix-C.pdf\n",
    "* WtE Facility, PA: https://www.covanta.com/where-we-are/our-facilities/plymouth\n",
    "* Composting (to energy, PA): https://www.phila.gov/media/20210614135413/Municipal-Waste-Management-Plan-202010.pdf\n",
    "* https://kleinmanenergy.upenn.edu/research/publications/powering-our-future-with-trash/ \n",
    "* Autoclave cost: https://www.sciencedirect.com/science/article/pii/S0956053X12004606\n",
    "* RMW vs. MSW: https://www.redbag.com/part-1-are-you-throwing-away-money-your-waste-removal-practices\n",
    "* RMW Extra Cost: https://practicegreenhealth.org/sites/default/files/upload-files/gorimpmod-rmwsegintheor_r5_web_0.pdf\n",
    "\n",
    "Emissions data:\n",
    "* Plastic types (https://www.ncbi.nlm.nih.gov/pmc/articles/PMC7151894/)\n",
    "* GHG 2022 Emission factors (https://www.epa.gov/climateleadership/ghg-emission-factors-hub)\n",
    "* SBS Sterilization Data: https://watermark.silverchair.com/znab406.pdf?token=AQECAHi208BE49Ooan9kkhW_Ercy7Dm3ZL_9Cf3qfKAc485ysgAAA7YwggOyBgkqhkiG9w0BBwagggOjMIIDnwIBADCCA5gGCSqGSIb3DQEHATAeBglghkgBZQMEAS4wEQQM3OHq1IzFvoFjSy8PAgEQgIIDaZSJ22zntvV7jr1oyTZMLrQxh5j0mbPV8rf5F-Oy5wEWimyOdXsRKDO38Ekew4gnEujpFZM-GQjBqUdGOG9ZxpVVaNtjtIO_1Lb2f2YaBPHUtX57aJQz3BLscMa1FkiFIPeZmps3HwN9KpAmE8Olmhuz6B2x2CCydkj9eT85Aba2WdmRpQydvf81zB5uYLzMOlhqUMnouJV-M_YELnJuOSrNTaL_ZsKFkAMeyyhKSyxmfoZcVUFRgjPev1G_dvQD-dwirS-3C2PFucLA3g77vwoPP6vOSOj_IVU0L1RwmQ9JQQgJEgPOZBiFZG5N9AfsZVbho1Ik-kllU8EgYGwCtYIW783Pv2wTO5v7SRzIqsYHqBFyLRNEDiUCPsNJYU-czLLa2VPW3mGJgtfsYs82bBAcB_l-YV_AtKCvnGx0rGRSjtOmVEE05yXIy-Uf5q-Rfx4qsiTcksIwCU-Z3Yt020pa6xg9duTTDS0pzRCS8Zjx21z4-XTrHaTI_s7RBVcNWe4Df6aCoxYHQ6OSV2SObHzIYpVlqIXY5t5aeb1FqmYjdSAk4j7r1a-0F8in5h0esLgxhIYCZCLL8ZVwL8ABwf_lk4F2rZIgvYyBWSk0IMt7LMA1DfFMigjegwo8Hgx9LQZDpE9AZugM-Fn9VfIvBOwbZ2r8DHhVWPI10C9wvmr4rK4fDOXRyz9sGB15-ujAAMsuBUCTQzyzHjAFAHBITorzJzeCSakkQe-15rflv2wDEFUPX7BxyY0KM2pJ_Y1I7FsvtdfACac8Eqxa4OIKmhu51pfKSh78PV07Qpnd-xXMTprBVc48L-dLauUT5Za8gcF7hJOh1AfdZnXnRtLAvx7sCl34jYaov3AraelqVfnBui2Amq3hEbxfbMJaMfqp70h7pxkKrW0-n9SZqCywGQeUae3wSqbM6IaENaWwYt6paFSV5WB1URAG8wNOF876qZp-105nlqHo23GFbHS_KElumAZ0CxM2R6g7z0F84IAcnABG5l_Ljb4P5zT4B_KRRtewkLlsBBzGkgKsZFCOg4CCbPCy8gyn4ryerws8OADU62JiY_6wJyFtmDT9KTYhiMndFYHnFYA_3ROydcO92I73nPgk8eZCuYAabNLOZCK2J-o91mu2ovRotkibZyspM34NvftqqXH7uQ\n",
    "* IPCC GWP: https://archive.ipcc.ch/publications_and_data/ar4/wg1/en/ch2s2-10-2.html\n",
    "\n",
    "Energy consumption\n",
    "* Recycling: https://pubmed.ncbi.nlm.nih.gov/25301544/#:~:text=Electricity%20use%20ranged%20from%204.7,than%2010%25%20of%20total%20electricity.\n",
    "\n",
    "Social Cost of Carbon:\n",
    "* https://www.brookings.edu/articles/what-is-the-social-cost-of-carbon/#:~:text=The%20social%20cost%20of%20carbon%20(SCC)%20is%20an%20estimate%20of,a%20ton%20of%20carbon%20emissions.\n",
    "* https://www.epa.gov/system/files/documents/2022-11/epa_scghg_report_draft_0.pdf\n",
    "* Landfill mass emissions factor: https://www.ieabioenergy.com/wp-content/uploads/2013/10/40_IEAPositionPaperMSW.pdf\n",
    "\n",
    "Mass sources: \n",
    "* Paper efficiency: https://www.afandpa.org/news/2023/does-paper-actually-get-recycled-industry-answers\n",
    "* HDPE efficiency: https://www.sciencedirect.com/science/article/pii/S2238785423013145#:~:text=The%20recycling%20rate%20of%20HDPE,for%20further%20processing%20%5B3%5D.\n",
    "* LDPE efficiency: https://www.sciencedirect.com/science/article/pii/S2667378922000645#:~:text=The%20exemplary%20case%20study%20shows,that%20offer%20future%20research%20need.\n",
    "* Glass efficiency: https://www.gpi.org/glass-recycling-facts\n",
    "* Metal (aluminum) efficiency: https://www.aluminum.org/Recycling#:~:text=Infinitely%20Recyclable,process%20can%20happen%20virtually%20infinitely.\n",
    "* Incineration efficiency: https://www.eia.gov/energyexplained/biomass/waste-to-energy-in-depth.php\n"
   ]
  },
  {
   "cell_type": "code",
   "execution_count": 7,
   "metadata": {},
   "outputs": [],
   "source": [
    "def assess_impact(composition, methods, factors, name=None):\n",
    "    # print(composition.shape, methods.shape, factors.shape)\n",
    "    final_impact_matrix = (composition * methods) * factors\n",
    "    verbose = name != None\n",
    "    if verbose:\n",
    "        print(\"-\" * 50)\n",
    "        print(\"Analyzing Scenario: \" + str(name) + '\\n------------------------\\n')\n",
    "        # print(final_impact_matrix)\n",
    "        print(\"\\nTotal \" + str(name) + \": \" + str(sum(sum(final_impact_matrix)).round(3)) + \" per ton waste\")\n",
    "        print(\"\\n\\tBreakdown per ton:\\n\\t------------------------------\")\n",
    "        for i in range(len(disposal_method_names)):\n",
    "            print('\\t' + (disposal_method_names[i] + \" \" + name).ljust(24) + str(sum(final_impact_matrix[i]).round(3)))\n",
    "        print()\n",
    "        for i in range(len(composition_type_names)):\n",
    "            print('\\t' + (composition_type_names[i] + \" \" + name).ljust(24) + str(sum(final_impact_matrix)[i].round(3)))\n",
    "        print()\n",
    "        print(\"-\" * 50)\n",
    "    return final_impact_matrix\n",
    "\n",
    "def minimize_impact(composition, impact_factors, RMW_constraints, RMW_cost=0):\n",
    "    x = cp.Variable((5, 9), nonneg=True)\n",
    "    RMW_extra_cost = 0.\n",
    "\n",
    "    obj = cp.Minimize(sum((cp.multiply(x, impact_factors) @ composition)) + RMW_extra_cost)\n",
    "    con_set = []\n",
    "    for i in range(len(composition)):\n",
    "        RMW_extra_cost = RMW_cost * (x[0,i] + x[2,i])\n",
    "        con_set.append(sum(x[:,i]) == 1.0)\n",
    "        con_set.append(x[0,i] + x[2,i] + x[4,i] >= RMW_constraints[i])\n",
    "\n",
    "    prob = cp.Problem(obj, con_set)\n",
    "    prob.solve(solver = \"GUROBI\")\n",
    "    print(obj.value)\n",
    "    return x.value"
   ]
  },
  {
   "cell_type": "code",
   "execution_count": 8,
   "metadata": {},
   "outputs": [],
   "source": [
    "# Assess impact of different waste stream compositions and disposal methods over CO2, cost, and total impact KPIs\n",
    "results_co2  = []\n",
    "results_tot  = []\n",
    "results_cost = []\n",
    "for method in waste_methods:\n",
    "    row_co2  = []\n",
    "    row_tot  = []\n",
    "    row_cost = []\n",
    "    for composition in waste_compositions:\n",
    "        row_co2.append(sum(sum(assess_impact(composition, method, impact_co2_total_20))))\n",
    "        row_tot.append(sum(sum(assess_impact(composition, method, impact_total_20))))\n",
    "        row_cost.append(sum(sum(assess_impact(composition, method, impact_cost))))\n",
    "    results_co2.append(row_co2)\n",
    "    results_tot.append(row_tot)\n",
    "    results_cost.append(row_cost)\n",
    "results_co2 = pd.DataFrame(np.array(results_co2), waste_method_labels, waste_composition_labels)\n",
    "results_tot = pd.DataFrame(np.array(results_tot), waste_method_labels, waste_composition_labels)\n",
    "results_cost = pd.DataFrame(np.array(results_cost), waste_method_labels, waste_composition_labels)"
   ]
  },
  {
   "cell_type": "code",
   "execution_count": 9,
   "metadata": {},
   "outputs": [],
   "source": [
    "def produce_heatmap(df, title, units, file_name=None):\n",
    "    s = sns.heatmap(df, cmap=\"coolwarm\", cbar_kws={'label':units}, annot=True, fmt='g')\n",
    "    s.set(title=title, xlabel='Waste Stream Composiiton', ylabel='Waste Disposal Method')\n",
    "    if file_name != None:\n",
    "        plt.savefig('./figures/' + file_name + \".png\", dpi=200, bbox_inches='tight')"
   ]
  },
  {
   "cell_type": "code",
   "execution_count": 10,
   "metadata": {},
   "outputs": [
    {
     "data": {
      "image/png": "[encoded data removed]",
      "text/plain": [
       "<Figure size 640x480 with 2 Axes>"
      ]
     },
     "metadata": {},
     "output_type": "display_data"
    }
   ],
   "source": [
    "produce_heatmap(results_co2, 'CO2-eq Emissions from 1 Ton of Hospital Waste', 'Ton CO2-eq', 'HeatmapEmissions')"
   ]
  },
  {
   "cell_type": "code",
   "execution_count": 11,
   "metadata": {},
   "outputs": [
    {
     "data": {
      "image/png": "[encoded data removed]",
      "text/plain": [
       "<Figure size 640x480 with 2 Axes>"
      ]
     },
     "metadata": {},
     "output_type": "display_data"
    }
   ],
   "source": [
    "produce_heatmap(results_tot, 'Overall Impact from 1 Ton of Hospital Waste', '$ USD-eq', 'HeatmapImpact')"
   ]
  },
  {
   "cell_type": "code",
   "execution_count": 12,
   "metadata": {},
   "outputs": [
    {
     "data": {
      "image/png": "[encoded data removed]",
      "text/plain": [
       "<Figure size 640x480 with 2 Axes>"
      ]
     },
     "metadata": {},
     "output_type": "display_data"
    }
   ],
   "source": [
    "produce_heatmap(results_cost, 'Average Cost from 1 Ton of Hospital Waste', '$ USD', 'HeatmapCost')"
   ]
  },
  {
   "cell_type": "markdown",
   "metadata": {},
   "source": [
    "## Disposal Method Sankey Diagrams"
   ]
  },
  {
   "cell_type": "code",
   "execution_count": 18,
   "metadata": {},
   "outputs": [
    {
     "name": "stdout",
     "output_type": "stream",
     "text": [
      "0 Hard plastic\n",
      "1 Soft plastic\n",
      "2 Paper\n",
      "3 Food\n",
      "4 Textiles\n",
      "5 Glass\n",
      "6 Metal\n",
      "7 Electronic waste\n",
      "8 Sharps\n",
      "9 Landfill\n",
      "10 Recycling\n",
      "11 Waste-to-Energy\n",
      "12 Composting\n",
      "13 Reuse\n",
      "14 CO2-eq Emissions\n",
      "15 Social Cost\n",
      "16 Disposal Cost\n",
      "17 Total Cost\n",
      "18 Medical Waste\n"
     ]
    }
   ],
   "source": [
    "auxillary_labels = ['CO2-eq Emissions', 'Social Cost', 'Disposal Cost', 'Total Cost', 'Medical Waste']\n",
    "labels = composition_type_names + disposal_method_names + auxillary_labels\n",
    "for idx, label in enumerate(labels):\n",
    "    print(str(idx), label)"
   ]
  },
  {
   "cell_type": "code",
   "execution_count": 19,
   "metadata": {},
   "outputs": [],
   "source": [
    "# impact_co2_total_20\n",
    "# impact_cost\n",
    "def plot_sankey(composition, disposal_methods, emissions_impact_matrix, cost_impact_matrix, name=None):\n",
    "    method_offset = 9\n",
    "    post_method_offset = 14\n",
    "    sources = []\n",
    "    targets = []\n",
    "    counts  = []\n",
    "\n",
    "    # Calculate impact matrices\n",
    "    disposal_co2_direct     = assess_impact(composition, disposal_methods, emissions_impact_matrix)\n",
    "    disposal_cost_direct    = assess_impact(composition, disposal_methods, cost_impact_matrix)\n",
    "    disposal_co2_cost       = disposal_co2_direct * social_cost_carbon\n",
    "\n",
    "    norm_0 = 100. / sum(composition)\n",
    "    norm_1 = 100. / sum(sum(disposal_methods))\n",
    "    norm_2 = 100. / sum(sum(disposal_co2_cost))\n",
    "    norm_3 =  100/ sum([sum(x) for x in disposal_co2_cost]) / sum([sum(x) for x in disposal_co2_direct]) \n",
    "\n",
    "    print(norm_0 * sum(composition))\n",
    "    print(norm_1 * sum(sum(disposal_methods)))\n",
    "    print(norm_2 * sum(sum(disposal_co2_cost)))\n",
    "\n",
    "    for c in range(len(composition)):\n",
    "        sources.append(18)\n",
    "        targets.append(c)\n",
    "        counts.append(composition[c] * norm_0)\n",
    "        \n",
    "\n",
    "    # Composition to disposal matrix\n",
    "    for m in range(len(disposal_methods)):\n",
    "        for c in range(len(disposal_methods[m])):\n",
    "            if disposal_methods[m][c] != 0.0:\n",
    "                sources.append(c)\n",
    "                targets.append(method_offset + m)\n",
    "                counts.append(disposal_methods[m][c] * norm_1)\n",
    "\n",
    "    \n",
    "    # Disposal to CO2 direct matrix\n",
    "    sum_CO2_direct = [sum(x) for x in disposal_co2_direct]\n",
    "    for m in range(len(disposal_methods)):\n",
    "        if sum_CO2_direct[m] != 0.0:\n",
    "            sources.append(method_offset + m)\n",
    "            targets.append(14)\n",
    "            counts.append(sum_CO2_direct[m] * norm_2)\n",
    "\n",
    "    # Disposal to CO2 cost matrix\n",
    "    sum_co2_cost = sum([sum(x) for x in disposal_co2_cost])\n",
    "    sources.append(14)\n",
    "    targets.append(15)\n",
    "    counts.append(sum_co2_cost * norm_2)\n",
    "\n",
    "    # Disposal to direct cost matrix\n",
    "    sum_cost_direct = [sum(x) for x in disposal_cost_direct]\n",
    "    for m in range(len(disposal_methods)):\n",
    "        if sum_cost_direct[m] != 0.0:\n",
    "            sources.append(method_offset + m)\n",
    "            targets.append(16)\n",
    "            counts.append(sum_cost_direct[m])\n",
    "    \n",
    "    sources.append(15)\n",
    "    targets.append(17)\n",
    "    counts.append(sum_co2_cost)\n",
    "\n",
    "    sources.append(16)\n",
    "    targets.append(17)\n",
    "    counts.append(sum(sum_cost_direct))\n",
    "\n",
    "    if name != None:\n",
    "        fig = go.Figure(data=[go.Sankey(\n",
    "            arrangement='snap',\n",
    "            node = {\"label\": labels},\n",
    "            link = {\"source\": sources, \"target\": targets, \"value\": counts}\n",
    "            )])\n",
    "        fig.update_layout(title=name)\n",
    "    else:\n",
    "        fig = go.Figure(data=[go.Sankey(\n",
    "            node = {\"label\": labels},\n",
    "            link = {\"source\": sources, \"target\": targets, \"value\": counts}\n",
    "            )])\n",
    "    fig.show()"
   ]
  },
  {
   "cell_type": "code",
   "execution_count": 20,
   "metadata": {},
   "outputs": [
    {
     "name": "stdout",
     "output_type": "stream",
     "text": [
      "Total Impact Sankey Diagram:\n",
      "Baseline Compsition, Baseline Disposal\n",
      "100.0\n",
      "100.0\n",
      "100.0\n"
     ]
    },
    {
     "data": {
      "application/vnd.plotly.v1+json": {
       "config": {
        "plotlyServerURL": "https://plot.ly"
       },
       "data": [
        {
         "arrangement": "snap",
         "link": {
          "source": [
           18,
           18,
           18,
           18,
           18,
           18,
           18,
           18,
           18,
           0,
           1,
           2,
           3,
           4,
           5,
           6,
           7,
           8,
           0,
           2,
           5,
           6,
           9,
           10,
           14,
           9,
           10,
           15,
           16
          ],
          "target": [
           0,
           1,
           2,
           3,
           4,
           5,
           6,
           7,
           8,
           9,
           9,
           9,
           9,
           9,
           9,
           9,
           9,
           9,
           10,
           10,
           10,
           10,
           14,
           14,
           15,
           16,
           16,
           17,
           17
          ],
          "value": [
           19.907070940511414,
           46.08137982624455,
           18.78438086318203,
           6.307529504064126,
           3.5601013218672173,
           1.206466110997923,
           0.402155370332641,
           0.12467576698403236,
           3.626240295816064,
           10.896832064631653,
           11.11111111111111,
           8.591941463098765,
           11.11111111111111,
           11.11111111111111,
           9.682839739550515,
           10.312959462297837,
           11.11111111111111,
           11.11111111111111,
           0.21427904647945892,
           2.5191696480123458,
           1.4282713715605966,
           0.7981516488132746,
           0.5164387859326802,
           0.009877003541004105,
           100.00000000000001,
           55.64778366017642,
           5.11638330804341,
           460.7187627428092,
           60.76416696821983
          ]
         },
         "node": {
          "label": [
           "Hard plastic",
           "Soft plastic",
           "Paper",
           "Food",
           "Textiles",
           "Glass",
           "Metal",
           "Electronic waste",
           "Sharps",
           "Landfill",
           "Recycling",
           "Waste-to-Energy",
           "Composting",
           "Reuse",
           "CO2-eq Emissions",
           "Social Cost",
           "Disposal Cost",
           "Total Cost",
           "Medical Waste"
          ]
         },
         "type": "sankey"
        }
       ],
       "layout": {
        "template": {
         "data": {
          "bar": [
           {
            "error_x": {
             "color": "#2a3f5f"
            },
            "error_y": {
             "color": "#2a3f5f"
            },
            "marker": {
             "line": {
              "color": "#E5ECF6",
              "width": 0.5
             },
             "pattern": {
              "fillmode": "overlay",
              "size": 10,
              "solidity": 0.2
             }
            },
            "type": "bar"
           }
          ],
          "barpolar": [
           {
            "marker": {
             "line": {
              "color": "#E5ECF6",
              "width": 0.5
             },
             "pattern": {
              "fillmode": "overlay",
              "size": 10,
              "solidity": 0.2
             }
            },
            "type": "barpolar"
           }
          ],
          "carpet": [
           {
            "aaxis": {
             "endlinecolor": "#2a3f5f",
             "gridcolor": "white",
             "linecolor": "white",
             "minorgridcolor": "white",
             "startlinecolor": "#2a3f5f"
            },
            "baxis": {
             "endlinecolor": "#2a3f5f",
             "gridcolor": "white",
             "linecolor": "white",
             "minorgridcolor": "white",
             "startlinecolor": "#2a3f5f"
            },
            "type": "carpet"
           }
          ],
          "choropleth": [
           {
            "colorbar": {
             "outlinewidth": 0,
             "ticks": ""
            },
            "type": "choropleth"
           }
          ],
          "contour": [
           {
            "colorbar": {
             "outlinewidth": 0,
             "ticks": ""
            },
            "colorscale": [
             [
              0,
              "#0d0887"
             ],
             [
              0.1111111111111111,
              "#46039f"
             ],
             [
              0.2222222222222222,
              "#7201a8"
             ],
             [
              0.3333333333333333,
              "#9c179e"
             ],
             [
              0.4444444444444444,
              "#bd3786"
             ],
             [
              0.5555555555555556,
              "#d8576b"
             ],
             [
              0.6666666666666666,
              "#ed7953"
             ],
             [
              0.7777777777777778,
              "#fb9f3a"
             ],
             [
              0.8888888888888888,
              "#fdca26"
             ],
             [
              1,
              "#f0f921"
             ]
            ],
            "type": "contour"
           }
          ],
          "contourcarpet": [
           {
            "colorbar": {
             "outlinewidth": 0,
             "ticks": ""
            },
            "type": "contourcarpet"
           }
          ],
          "heatmap": [
           {
            "colorbar": {
             "outlinewidth": 0,
             "ticks": ""
            },
            "colorscale": [
             [
              0,
              "#0d0887"
             ],
             [
              0.1111111111111111,
              "#46039f"
             ],
             [
              0.2222222222222222,
              "#7201a8"
             ],
             [
              0.3333333333333333,
              "#9c179e"
             ],
             [
              0.4444444444444444,
              "#bd3786"
             ],
             [
              0.5555555555555556,
              "#d8576b"
             ],
             [
              0.6666666666666666,
              "#ed7953"
             ],
             [
              0.7777777777777778,
              "#fb9f3a"
             ],
             [
              0.8888888888888888,
              "#fdca26"
             ],
             [
              1,
              "#f0f921"
             ]
            ],
            "type": "heatmap"
           }
          ],
          "heatmapgl": [
           {
            "colorbar": {
             "outlinewidth": 0,
             "ticks": ""
            },
            "colorscale": [
             [
              0,
              "#0d0887"
             ],
             [
              0.1111111111111111,
              "#46039f"
             ],
             [
              0.2222222222222222,
              "#7201a8"
             ],
             [
              0.3333333333333333,
              "#9c179e"
             ],
             [
              0.4444444444444444,
              "#bd3786"
             ],
             [
              0.5555555555555556,
              "#d8576b"
             ],
             [
              0.6666666666666666,
              "#ed7953"
             ],
             [
              0.7777777777777778,
              "#fb9f3a"
             ],
             [
              0.8888888888888888,
              "#fdca26"
             ],
             [
              1,
              "#f0f921"
             ]
            ],
            "type": "heatmapgl"
           }
          ],
          "histogram": [
           {
            "marker": {
             "pattern": {
              "fillmode": "overlay",
              "size": 10,
              "solidity": 0.2
             }
            },
            "type": "histogram"
           }
          ],
          "histogram2d": [
           {
            "colorbar": {
             "outlinewidth": 0,
             "ticks": ""
            },
            "colorscale": [
             [
              0,
              "#0d0887"
             ],
             [
              0.1111111111111111,
              "#46039f"
             ],
             [
              0.2222222222222222,
              "#7201a8"
             ],
             [
              0.3333333333333333,
              "#9c179e"
             ],
             [
              0.4444444444444444,
              "#bd3786"
             ],
             [
              0.5555555555555556,
              "#d8576b"
             ],
             [
              0.6666666666666666,
              "#ed7953"
             ],
             [
              0.7777777777777778,
              "#fb9f3a"
             ],
             [
              0.8888888888888888,
              "#fdca26"
             ],
             [
              1,
              "#f0f921"
             ]
            ],
            "type": "histogram2d"
           }
          ],
          "histogram2dcontour": [
           {
            "colorbar": {
             "outlinewidth": 0,
             "ticks": ""
            },
            "colorscale": [
             [
              0,
              "#0d0887"
             ],
             [
              0.1111111111111111,
              "#46039f"
             ],
             [
              0.2222222222222222,
              "#7201a8"
             ],
             [
              0.3333333333333333,
              "#9c179e"
             ],
             [
              0.4444444444444444,
              "#bd3786"
             ],
             [
              0.5555555555555556,
              "#d8576b"
             ],
             [
              0.6666666666666666,
              "#ed7953"
             ],
             [
              0.7777777777777778,
              "#fb9f3a"
             ],
             [
              0.8888888888888888,
              "#fdca26"
             ],
             [
              1,
              "#f0f921"
             ]
            ],
            "type": "histogram2dcontour"
           }
          ],
          "mesh3d": [
           {
            "colorbar": {
             "outlinewidth": 0,
             "ticks": ""
            },
            "type": "mesh3d"
           }
          ],
          "parcoords": [
           {
            "line": {
             "colorbar": {
              "outlinewidth": 0,
              "ticks": ""
             }
            },
            "type": "parcoords"
           }
          ],
          "pie": [
           {
            "automargin": true,
            "type": "pie"
           }
          ],
          "scatter": [
           {
            "fillpattern": {
             "fillmode": "overlay",
             "size": 10,
             "solidity": 0.2
            },
            "type": "scatter"
           }
          ],
          "scatter3d": [
           {
            "line": {
             "colorbar": {
              "outlinewidth": 0,
              "ticks": ""
             }
            },
            "marker": {
             "colorbar": {
              "outlinewidth": 0,
              "ticks": ""
             }
            },
            "type": "scatter3d"
           }
          ],
          "scattercarpet": [
           {
            "marker": {
             "colorbar": {
              "outlinewidth": 0,
              "ticks": ""
             }
            },
            "type": "scattercarpet"
           }
          ],
          "scattergeo": [
           {
            "marker": {
             "colorbar": {
              "outlinewidth": 0,
              "ticks": ""
             }
            },
            "type": "scattergeo"
           }
          ],
          "scattergl": [
           {
            "marker": {
             "colorbar": {
              "outlinewidth": 0,
              "ticks": ""
             }
            },
            "type": "scattergl"
           }
          ],
          "scattermapbox": [
           {
            "marker": {
             "colorbar": {
              "outlinewidth": 0,
              "ticks": ""
             }
            },
            "type": "scattermapbox"
           }
          ],
          "scatterpolar": [
           {
            "marker": {
             "colorbar": {
              "outlinewidth": 0,
              "ticks": ""
             }
            },
            "type": "scatterpolar"
           }
          ],
          "scatterpolargl": [
           {
            "marker": {
             "colorbar": {
              "outlinewidth": 0,
              "ticks": ""
             }
            },
            "type": "scatterpolargl"
           }
          ],
          "scatterternary": [
           {
            "marker": {
             "colorbar": {
              "outlinewidth": 0,
              "ticks": ""
             }
            },
            "type": "scatterternary"
           }
          ],
          "surface": [
           {
            "colorbar": {
             "outlinewidth": 0,
             "ticks": ""
            },
            "colorscale": [
             [
              0,
              "#0d0887"
             ],
             [
              0.1111111111111111,
              "#46039f"
             ],
             [
              0.2222222222222222,
              "#7201a8"
             ],
             [
              0.3333333333333333,
              "#9c179e"
             ],
             [
              0.4444444444444444,
              "#bd3786"
             ],
             [
              0.5555555555555556,
              "#d8576b"
             ],
             [
              0.6666666666666666,
              "#ed7953"
             ],
             [
              0.7777777777777778,
              "#fb9f3a"
             ],
             [
              0.8888888888888888,
              "#fdca26"
             ],
             [
              1,
              "#f0f921"
             ]
            ],
            "type": "surface"
           }
          ],
          "table": [
           {
            "cells": {
             "fill": {
              "color": "#EBF0F8"
             },
             "line": {
              "color": "white"
             }
            },
            "header": {
             "fill": {
              "color": "#C8D4E3"
             },
             "line": {
              "color": "white"
             }
            },
            "type": "table"
           }
          ]
         },
         "layout": {
          "annotationdefaults": {
           "arrowcolor": "#2a3f5f",
           "arrowhead": 0,
           "arrowwidth": 1
          },
          "autotypenumbers": "strict",
          "coloraxis": {
           "colorbar": {
            "outlinewidth": 0,
            "ticks": ""
           }
          },
          "colorscale": {
           "diverging": [
            [
             0,
             "#8e0152"
            ],
            [
             0.1,
             "#c51b7d"
            ],
            [
             0.2,
             "#de77ae"
            ],
            [
             0.3,
             "#f1b6da"
            ],
            [
             0.4,
             "#fde0ef"
            ],
            [
             0.5,
             "#f7f7f7"
            ],
            [
             0.6,
             "#e6f5d0"
            ],
            [
             0.7,
             "#b8e186"
            ],
            [
             0.8,
             "#7fbc41"
            ],
            [
             0.9,
             "#4d9221"
            ],
            [
             1,
             "#276419"
            ]
           ],
           "sequential": [
            [
             0,
             "#0d0887"
            ],
            [
             0.1111111111111111,
             "#46039f"
            ],
            [
             0.2222222222222222,
             "#7201a8"
            ],
            [
             0.3333333333333333,
             "#9c179e"
            ],
            [
             0.4444444444444444,
             "#bd3786"
            ],
            [
             0.5555555555555556,
             "#d8576b"
            ],
            [
             0.6666666666666666,
             "#ed7953"
            ],
            [
             0.7777777777777778,
             "#fb9f3a"
            ],
            [
             0.8888888888888888,
             "#fdca26"
            ],
            [
             1,
             "#f0f921"
            ]
           ],
           "sequentialminus": [
            [
             0,
             "#0d0887"
            ],
            [
             0.1111111111111111,
             "#46039f"
            ],
            [
             0.2222222222222222,
             "#7201a8"
            ],
            [
             0.3333333333333333,
             "#9c179e"
            ],
            [
             0.4444444444444444,
             "#bd3786"
            ],
            [
             0.5555555555555556,
             "#d8576b"
            ],
            [
             0.6666666666666666,
             "#ed7953"
            ],
            [
             0.7777777777777778,
             "#fb9f3a"
            ],
            [
             0.8888888888888888,
             "#fdca26"
            ],
            [
             1,
             "#f0f921"
            ]
           ]
          },
          "colorway": [
           "#636efa",
           "#EF553B",
           "#00cc96",
           "#ab63fa",
           "#FFA15A",
           "#19d3f3",
           "#FF6692",
           "#B6E880",
           "#FF97FF",
           "#FECB52"
          ],
          "font": {
           "color": "#2a3f5f"
          },
          "geo": {
           "bgcolor": "white",
           "lakecolor": "white",
           "landcolor": "#E5ECF6",
           "showlakes": true,
           "showland": true,
           "subunitcolor": "white"
          },
          "hoverlabel": {
           "align": "left"
          },
          "hovermode": "closest",
          "mapbox": {
           "style": "light"
          },
          "paper_bgcolor": "white",
          "plot_bgcolor": "#E5ECF6",
          "polar": {
           "angularaxis": {
            "gridcolor": "white",
            "linecolor": "white",
            "ticks": ""
           },
           "bgcolor": "#E5ECF6",
           "radialaxis": {
            "gridcolor": "white",
            "linecolor": "white",
            "ticks": ""
           }
          },
          "scene": {
           "xaxis": {
            "backgroundcolor": "#E5ECF6",
            "gridcolor": "white",
            "gridwidth": 2,
            "linecolor": "white",
            "showbackground": true,
            "ticks": "",
            "zerolinecolor": "white"
           },
           "yaxis": {
            "backgroundcolor": "#E5ECF6",
            "gridcolor": "white",
            "gridwidth": 2,
            "linecolor": "white",
            "showbackground": true,
            "ticks": "",
            "zerolinecolor": "white"
           },
           "zaxis": {
            "backgroundcolor": "#E5ECF6",
            "gridcolor": "white",
            "gridwidth": 2,
            "linecolor": "white",
            "showbackground": true,
            "ticks": "",
            "zerolinecolor": "white"
           }
          },
          "shapedefaults": {
           "line": {
            "color": "#2a3f5f"
           }
          },
          "ternary": {
           "aaxis": {
            "gridcolor": "white",
            "linecolor": "white",
            "ticks": ""
           },
           "baxis": {
            "gridcolor": "white",
            "linecolor": "white",
            "ticks": ""
           },
           "bgcolor": "#E5ECF6",
           "caxis": {
            "gridcolor": "white",
            "linecolor": "white",
            "ticks": ""
           }
          },
          "title": {
           "x": 0.05
          },
          "xaxis": {
           "automargin": true,
           "gridcolor": "white",
           "linecolor": "white",
           "ticks": "",
           "title": {
            "standoff": 15
           },
           "zerolinecolor": "white",
           "zerolinewidth": 2
          },
          "yaxis": {
           "automargin": true,
           "gridcolor": "white",
           "linecolor": "white",
           "ticks": "",
           "title": {
            "standoff": 15
           },
           "zerolinecolor": "white",
           "zerolinewidth": 2
          }
         }
        },
        "title": {
         "text": "Total Impact Sankey Diagram:\nBaseline Compsition, Baseline Disposal"
        }
       }
      }
     },
     "metadata": {},
     "output_type": "display_data"
    },
    {
     "name": "stdout",
     "output_type": "stream",
     "text": [
      "Total Impact Sankey Diagram:\n",
      "Combine Methods Compsition, Prioritize Emissions Disposal\n",
      "100.0\n",
      "100.0\n",
      "100.0\n"
     ]
    },
    {
     "data": {
      "application/vnd.plotly.v1+json": {
       "config": {
        "plotlyServerURL": "https://plot.ly"
       },
       "data": [
        {
         "arrangement": "snap",
         "link": {
          "source": [
           18,
           18,
           18,
           18,
           18,
           18,
           18,
           18,
           18,
           1,
           7,
           2,
           3,
           3,
           0,
           4,
           5,
           6,
           8,
           9,
           11,
           12,
           13,
           14,
           9,
           11,
           12,
           13,
           15,
           16
          ],
          "target": [
           0,
           1,
           2,
           3,
           4,
           5,
           6,
           7,
           8,
           9,
           9,
           11,
           11,
           12,
           13,
           13,
           13,
           13,
           13,
           14,
           14,
           14,
           14,
           15,
           16,
           16,
           16,
           16,
           17,
           17
          ],
          "value": [
           13.930792999503467,
           44.08400312210393,
           18.785450210252915,
           6.307888575691176,
           5.5603039893891495,
           5.6853236326042484,
           1.8951078775347499,
           0.124682864458642,
           3.6264467284617226,
           11.11111111111111,
           11.11111111111111,
           11.11111111111111,
           0.1660573433503408,
           10.94505376776077,
           11.11111111111111,
           11.11111111111111,
           11.11111111111111,
           11.11111111111111,
           11.11111111111111,
           0.4496600137491529,
           0.047513873084473496,
           0.004181284595118458,
           0.024960618044939407,
           100.00000000000001,
           25.848818696343137,
           12.024495336656056,
           4.196054996885311,
           306.335094795156,
           245.7894907568092,
           348.4044638250405
          ]
         },
         "node": {
          "label": [
           "Hard plastic",
           "Soft plastic",
           "Paper",
           "Food",
           "Textiles",
           "Glass",
           "Metal",
           "Electronic waste",
           "Sharps",
           "Landfill",
           "Recycling",
           "Waste-to-Energy",
           "Composting",
           "Reuse",
           "CO2-eq Emissions",
           "Social Cost",
           "Disposal Cost",
           "Total Cost",
           "Medical Waste"
          ]
         },
         "type": "sankey"
        }
       ],
       "layout": {
        "template": {
         "data": {
          "bar": [
           {
            "error_x": {
             "color": "#2a3f5f"
            },
            "error_y": {
             "color": "#2a3f5f"
            },
            "marker": {
             "line": {
              "color": "#E5ECF6",
              "width": 0.5
             },
             "pattern": {
              "fillmode": "overlay",
              "size": 10,
              "solidity": 0.2
             }
            },
            "type": "bar"
           }
          ],
          "barpolar": [
           {
            "marker": {
             "line": {
              "color": "#E5ECF6",
              "width": 0.5
             },
             "pattern": {
              "fillmode": "overlay",
              "size": 10,
              "solidity": 0.2
             }
            },
            "type": "barpolar"
           }
          ],
          "carpet": [
           {
            "aaxis": {
             "endlinecolor": "#2a3f5f",
             "gridcolor": "white",
             "linecolor": "white",
             "minorgridcolor": "white",
             "startlinecolor": "#2a3f5f"
            },
            "baxis": {
             "endlinecolor": "#2a3f5f",
             "gridcolor": "white",
             "linecolor": "white",
             "minorgridcolor": "white",
             "startlinecolor": "#2a3f5f"
            },
            "type": "carpet"
           }
          ],
          "choropleth": [
           {
            "colorbar": {
             "outlinewidth": 0,
             "ticks": ""
            },
            "type": "choropleth"
           }
          ],
          "contour": [
           {
            "colorbar": {
             "outlinewidth": 0,
             "ticks": ""
            },
            "colorscale": [
             [
              0,
              "#0d0887"
             ],
             [
              0.1111111111111111,
              "#46039f"
             ],
             [
              0.2222222222222222,
              "#7201a8"
             ],
             [
              0.3333333333333333,
              "#9c179e"
             ],
             [
              0.4444444444444444,
              "#bd3786"
             ],
             [
              0.5555555555555556,
              "#d8576b"
             ],
             [
              0.6666666666666666,
              "#ed7953"
             ],
             [
              0.7777777777777778,
              "#fb9f3a"
             ],
             [
              0.8888888888888888,
              "#fdca26"
             ],
             [
              1,
              "#f0f921"
             ]
            ],
            "type": "contour"
           }
          ],
          "contourcarpet": [
           {
            "colorbar": {
             "outlinewidth": 0,
             "ticks": ""
            },
            "type": "contourcarpet"
           }
          ],
          "heatmap": [
           {
            "colorbar": {
             "outlinewidth": 0,
             "ticks": ""
            },
            "colorscale": [
             [
              0,
              "#0d0887"
             ],
             [
              0.1111111111111111,
              "#46039f"
             ],
             [
              0.2222222222222222,
              "#7201a8"
             ],
             [
              0.3333333333333333,
              "#9c179e"
             ],
             [
              0.4444444444444444,
              "#bd3786"
             ],
             [
              0.5555555555555556,
              "#d8576b"
             ],
             [
              0.6666666666666666,
              "#ed7953"
             ],
             [
              0.7777777777777778,
              "#fb9f3a"
             ],
             [
              0.8888888888888888,
              "#fdca26"
             ],
             [
              1,
              "#f0f921"
             ]
            ],
            "type": "heatmap"
           }
          ],
          "heatmapgl": [
           {
            "colorbar": {
             "outlinewidth": 0,
             "ticks": ""
            },
            "colorscale": [
             [
              0,
              "#0d0887"
             ],
             [
              0.1111111111111111,
              "#46039f"
             ],
             [
              0.2222222222222222,
              "#7201a8"
             ],
             [
              0.3333333333333333,
              "#9c179e"
             ],
             [
              0.4444444444444444,
              "#bd3786"
             ],
             [
              0.5555555555555556,
              "#d8576b"
             ],
             [
              0.6666666666666666,
              "#ed7953"
             ],
             [
              0.7777777777777778,
              "#fb9f3a"
             ],
             [
              0.8888888888888888,
              "#fdca26"
             ],
             [
              1,
              "#f0f921"
             ]
            ],
            "type": "heatmapgl"
           }
          ],
          "histogram": [
           {
            "marker": {
             "pattern": {
              "fillmode": "overlay",
              "size": 10,
              "solidity": 0.2
             }
            },
            "type": "histogram"
           }
          ],
          "histogram2d": [
           {
            "colorbar": {
             "outlinewidth": 0,
             "ticks": ""
            },
            "colorscale": [
             [
              0,
              "#0d0887"
             ],
             [
              0.1111111111111111,
              "#46039f"
             ],
             [
              0.2222222222222222,
              "#7201a8"
             ],
             [
              0.3333333333333333,
              "#9c179e"
             ],
             [
              0.4444444444444444,
              "#bd3786"
             ],
             [
              0.5555555555555556,
              "#d8576b"
             ],
             [
              0.6666666666666666,
              "#ed7953"
             ],
             [
              0.7777777777777778,
              "#fb9f3a"
             ],
             [
              0.8888888888888888,
              "#fdca26"
             ],
             [
              1,
              "#f0f921"
             ]
            ],
            "type": "histogram2d"
           }
          ],
          "histogram2dcontour": [
           {
            "colorbar": {
             "outlinewidth": 0,
             "ticks": ""
            },
            "colorscale": [
             [
              0,
              "#0d0887"
             ],
             [
              0.1111111111111111,
              "#46039f"
             ],
             [
              0.2222222222222222,
              "#7201a8"
             ],
             [
              0.3333333333333333,
              "#9c179e"
             ],
             [
              0.4444444444444444,
              "#bd3786"
             ],
             [
              0.5555555555555556,
              "#d8576b"
             ],
             [
              0.6666666666666666,
              "#ed7953"
             ],
             [
              0.7777777777777778,
              "#fb9f3a"
             ],
             [
              0.8888888888888888,
              "#fdca26"
             ],
             [
              1,
              "#f0f921"
             ]
            ],
            "type": "histogram2dcontour"
           }
          ],
          "mesh3d": [
           {
            "colorbar": {
             "outlinewidth": 0,
             "ticks": ""
            },
            "type": "mesh3d"
           }
          ],
          "parcoords": [
           {
            "line": {
             "colorbar": {
              "outlinewidth": 0,
              "ticks": ""
             }
            },
            "type": "parcoords"
           }
          ],
          "pie": [
           {
            "automargin": true,
            "type": "pie"
           }
          ],
          "scatter": [
           {
            "fillpattern": {
             "fillmode": "overlay",
             "size": 10,
             "solidity": 0.2
            },
            "type": "scatter"
           }
          ],
          "scatter3d": [
           {
            "line": {
             "colorbar": {
              "outlinewidth": 0,
              "ticks": ""
             }
            },
            "marker": {
             "colorbar": {
              "outlinewidth": 0,
              "ticks": ""
             }
            },
            "type": "scatter3d"
           }
          ],
          "scattercarpet": [
           {
            "marker": {
             "colorbar": {
              "outlinewidth": 0,
              "ticks": ""
             }
            },
            "type": "scattercarpet"
           }
          ],
          "scattergeo": [
           {
            "marker": {
             "colorbar": {
              "outlinewidth": 0,
              "ticks": ""
             }
            },
            "type": "scattergeo"
           }
          ],
          "scattergl": [
           {
            "marker": {
             "colorbar": {
              "outlinewidth": 0,
              "ticks": ""
             }
            },
            "type": "scattergl"
           }
          ],
          "scattermapbox": [
           {
            "marker": {
             "colorbar": {
              "outlinewidth": 0,
              "ticks": ""
             }
            },
            "type": "scattermapbox"
           }
          ],
          "scatterpolar": [
           {
            "marker": {
             "colorbar": {
              "outlinewidth": 0,
              "ticks": ""
             }
            },
            "type": "scatterpolar"
           }
          ],
          "scatterpolargl": [
           {
            "marker": {
             "colorbar": {
              "outlinewidth": 0,
              "ticks": ""
             }
            },
            "type": "scatterpolargl"
           }
          ],
          "scatterternary": [
           {
            "marker": {
             "colorbar": {
              "outlinewidth": 0,
              "ticks": ""
             }
            },
            "type": "scatterternary"
           }
          ],
          "surface": [
           {
            "colorbar": {
             "outlinewidth": 0,
             "ticks": ""
            },
            "colorscale": [
             [
              0,
              "#0d0887"
             ],
             [
              0.1111111111111111,
              "#46039f"
             ],
             [
              0.2222222222222222,
              "#7201a8"
             ],
             [
              0.3333333333333333,
              "#9c179e"
             ],
             [
              0.4444444444444444,
              "#bd3786"
             ],
             [
              0.5555555555555556,
              "#d8576b"
             ],
             [
              0.6666666666666666,
              "#ed7953"
             ],
             [
              0.7777777777777778,
              "#fb9f3a"
             ],
             [
              0.8888888888888888,
              "#fdca26"
             ],
             [
              1,
              "#f0f921"
             ]
            ],
            "type": "surface"
           }
          ],
          "table": [
           {
            "cells": {
             "fill": {
              "color": "#EBF0F8"
             },
             "line": {
              "color": "white"
             }
            },
            "header": {
             "fill": {
              "color": "#C8D4E3"
             },
             "line": {
              "color": "white"
             }
            },
            "type": "table"
           }
          ]
         },
         "layout": {
          "annotationdefaults": {
           "arrowcolor": "#2a3f5f",
           "arrowhead": 0,
           "arrowwidth": 1
          },
          "autotypenumbers": "strict",
          "coloraxis": {
           "colorbar": {
            "outlinewidth": 0,
            "ticks": ""
           }
          },
          "colorscale": {
           "diverging": [
            [
             0,
             "#8e0152"
            ],
            [
             0.1,
             "#c51b7d"
            ],
            [
             0.2,
             "#de77ae"
            ],
            [
             0.3,
             "#f1b6da"
            ],
            [
             0.4,
             "#fde0ef"
            ],
            [
             0.5,
             "#f7f7f7"
            ],
            [
             0.6,
             "#e6f5d0"
            ],
            [
             0.7,
             "#b8e186"
            ],
            [
             0.8,
             "#7fbc41"
            ],
            [
             0.9,
             "#4d9221"
            ],
            [
             1,
             "#276419"
            ]
           ],
           "sequential": [
            [
             0,
             "#0d0887"
            ],
            [
             0.1111111111111111,
             "#46039f"
            ],
            [
             0.2222222222222222,
             "#7201a8"
            ],
            [
             0.3333333333333333,
             "#9c179e"
            ],
            [
             0.4444444444444444,
             "#bd3786"
            ],
            [
             0.5555555555555556,
             "#d8576b"
            ],
            [
             0.6666666666666666,
             "#ed7953"
            ],
            [
             0.7777777777777778,
             "#fb9f3a"
            ],
            [
             0.8888888888888888,
             "#fdca26"
            ],
            [
             1,
             "#f0f921"
            ]
           ],
           "sequentialminus": [
            [
             0,
             "#0d0887"
            ],
            [
             0.1111111111111111,
             "#46039f"
            ],
            [
             0.2222222222222222,
             "#7201a8"
            ],
            [
             0.3333333333333333,
             "#9c179e"
            ],
            [
             0.4444444444444444,
             "#bd3786"
            ],
            [
             0.5555555555555556,
             "#d8576b"
            ],
            [
             0.6666666666666666,
             "#ed7953"
            ],
            [
             0.7777777777777778,
             "#fb9f3a"
            ],
            [
             0.8888888888888888,
             "#fdca26"
            ],
            [
             1,
             "#f0f921"
            ]
           ]
          },
          "colorway": [
           "#636efa",
           "#EF553B",
           "#00cc96",
           "#ab63fa",
           "#FFA15A",
           "#19d3f3",
           "#FF6692",
           "#B6E880",
           "#FF97FF",
           "#FECB52"
          ],
          "font": {
           "color": "#2a3f5f"
          },
          "geo": {
           "bgcolor": "white",
           "lakecolor": "white",
           "landcolor": "#E5ECF6",
           "showlakes": true,
           "showland": true,
           "subunitcolor": "white"
          },
          "hoverlabel": {
           "align": "left"
          },
          "hovermode": "closest",
          "mapbox": {
           "style": "light"
          },
          "paper_bgcolor": "white",
          "plot_bgcolor": "#E5ECF6",
          "polar": {
           "angularaxis": {
            "gridcolor": "white",
            "linecolor": "white",
            "ticks": ""
           },
           "bgcolor": "#E5ECF6",
           "radialaxis": {
            "gridcolor": "white",
            "linecolor": "white",
            "ticks": ""
           }
          },
          "scene": {
           "xaxis": {
            "backgroundcolor": "#E5ECF6",
            "gridcolor": "white",
            "gridwidth": 2,
            "linecolor": "white",
            "showbackground": true,
            "ticks": "",
            "zerolinecolor": "white"
           },
           "yaxis": {
            "backgroundcolor": "#E5ECF6",
            "gridcolor": "white",
            "gridwidth": 2,
            "linecolor": "white",
            "showbackground": true,
            "ticks": "",
            "zerolinecolor": "white"
           },
           "zaxis": {
            "backgroundcolor": "#E5ECF6",
            "gridcolor": "white",
            "gridwidth": 2,
            "linecolor": "white",
            "showbackground": true,
            "ticks": "",
            "zerolinecolor": "white"
           }
          },
          "shapedefaults": {
           "line": {
            "color": "#2a3f5f"
           }
          },
          "ternary": {
           "aaxis": {
            "gridcolor": "white",
            "linecolor": "white",
            "ticks": ""
           },
           "baxis": {
            "gridcolor": "white",
            "linecolor": "white",
            "ticks": ""
           },
           "bgcolor": "#E5ECF6",
           "caxis": {
            "gridcolor": "white",
            "linecolor": "white",
            "ticks": ""
           }
          },
          "title": {
           "x": 0.05
          },
          "xaxis": {
           "automargin": true,
           "gridcolor": "white",
           "linecolor": "white",
           "ticks": "",
           "title": {
            "standoff": 15
           },
           "zerolinecolor": "white",
           "zerolinewidth": 2
          },
          "yaxis": {
           "automargin": true,
           "gridcolor": "white",
           "linecolor": "white",
           "ticks": "",
           "title": {
            "standoff": 15
           },
           "zerolinecolor": "white",
           "zerolinewidth": 2
          }
         }
        },
        "title": {
         "text": "Total Impact Sankey Diagram:\nCombine Methods Compsition, Prioritize Emissions Disposal"
        }
       }
      }
     },
     "metadata": {},
     "output_type": "display_data"
    },
    {
     "name": "stdout",
     "output_type": "stream",
     "text": [
      "Total Impact Sankey Diagram:\n",
      "Combine Methods Compsition, Combine Methods Disposal\n",
      "100.0\n",
      "100.0\n",
      "100.00000000000001\n"
     ]
    },
    {
     "data": {
      "application/vnd.plotly.v1+json": {
       "config": {
        "plotlyServerURL": "https://plot.ly"
       },
       "data": [
        {
         "arrangement": "snap",
         "link": {
          "source": [
           18,
           18,
           18,
           18,
           18,
           18,
           18,
           18,
           18,
           0,
           1,
           2,
           7,
           8,
           0,
           2,
           5,
           6,
           3,
           3,
           4,
           5,
           6,
           9,
           10,
           11,
           12,
           13,
           14,
           9,
           10,
           11,
           12,
           13,
           15,
           16
          ],
          "target": [
           0,
           1,
           2,
           3,
           4,
           5,
           6,
           7,
           8,
           9,
           9,
           9,
           9,
           9,
           10,
           10,
           10,
           10,
           11,
           12,
           13,
           13,
           13,
           14,
           14,
           14,
           14,
           14,
           15,
           16,
           16,
           16,
           16,
           16,
           17,
           17
          ],
          "value": [
           13.930792999503467,
           44.08400312210393,
           18.785450210252915,
           6.307888575691176,
           5.5603039893891495,
           5.6853236326042484,
           1.8951078775347499,
           0.124682864458642,
           3.6264467284617226,
           10.896832064631653,
           11.11111111111111,
           8.591941463098765,
           11.11111111111111,
           11.11111111111111,
           0.21427904647945892,
           2.5191696480123458,
           1.4282713715605966,
           0.7981516488132746,
           0.1660573433503408,
           10.94505376776077,
           11.11111111111111,
           9.682839739550515,
           10.312959462297837,
           0.5055233899425657,
           0.011919800492229831,
           0.0001551049618926892,
           0.0027335434882953175,
           0.005983950588700793,
           100.00000000000006,
           44.450988834902006,
           5.718426874545873,
           0.060042097745975166,
           4.196054996885311,
           122.48011386850507,
           375.96468310967236,
           176.90562667258422
          ]
         },
         "node": {
          "label": [
           "Hard plastic",
           "Soft plastic",
           "Paper",
           "Food",
           "Textiles",
           "Glass",
           "Metal",
           "Electronic waste",
           "Sharps",
           "Landfill",
           "Recycling",
           "Waste-to-Energy",
           "Composting",
           "Reuse",
           "CO2-eq Emissions",
           "Social Cost",
           "Disposal Cost",
           "Total Cost",
           "Medical Waste"
          ]
         },
         "type": "sankey"
        }
       ],
       "layout": {
        "template": {
         "data": {
          "bar": [
           {
            "error_x": {
             "color": "#2a3f5f"
            },
            "error_y": {
             "color": "#2a3f5f"
            },
            "marker": {
             "line": {
              "color": "#E5ECF6",
              "width": 0.5
             },
             "pattern": {
              "fillmode": "overlay",
              "size": 10,
              "solidity": 0.2
             }
            },
            "type": "bar"
           }
          ],
          "barpolar": [
           {
            "marker": {
             "line": {
              "color": "#E5ECF6",
              "width": 0.5
             },
             "pattern": {
              "fillmode": "overlay",
              "size": 10,
              "solidity": 0.2
             }
            },
            "type": "barpolar"
           }
          ],
          "carpet": [
           {
            "aaxis": {
             "endlinecolor": "#2a3f5f",
             "gridcolor": "white",
             "linecolor": "white",
             "minorgridcolor": "white",
             "startlinecolor": "#2a3f5f"
            },
            "baxis": {
             "endlinecolor": "#2a3f5f",
             "gridcolor": "white",
             "linecolor": "white",
             "minorgridcolor": "white",
             "startlinecolor": "#2a3f5f"
            },
            "type": "carpet"
           }
          ],
          "choropleth": [
           {
            "colorbar": {
             "outlinewidth": 0,
             "ticks": ""
            },
            "type": "choropleth"
           }
          ],
          "contour": [
           {
            "colorbar": {
             "outlinewidth": 0,
             "ticks": ""
            },
            "colorscale": [
             [
              0,
              "#0d0887"
             ],
             [
              0.1111111111111111,
              "#46039f"
             ],
             [
              0.2222222222222222,
              "#7201a8"
             ],
             [
              0.3333333333333333,
              "#9c179e"
             ],
             [
              0.4444444444444444,
              "#bd3786"
             ],
             [
              0.5555555555555556,
              "#d8576b"
             ],
             [
              0.6666666666666666,
              "#ed7953"
             ],
             [
              0.7777777777777778,
              "#fb9f3a"
             ],
             [
              0.8888888888888888,
              "#fdca26"
             ],
             [
              1,
              "#f0f921"
             ]
            ],
            "type": "contour"
           }
          ],
          "contourcarpet": [
           {
            "colorbar": {
             "outlinewidth": 0,
             "ticks": ""
            },
            "type": "contourcarpet"
           }
          ],
          "heatmap": [
           {
            "colorbar": {
             "outlinewidth": 0,
             "ticks": ""
            },
            "colorscale": [
             [
              0,
              "#0d0887"
             ],
             [
              0.1111111111111111,
              "#46039f"
             ],
             [
              0.2222222222222222,
              "#7201a8"
             ],
             [
              0.3333333333333333,
              "#9c179e"
             ],
             [
              0.4444444444444444,
              "#bd3786"
             ],
             [
              0.5555555555555556,
              "#d8576b"
             ],
             [
              0.6666666666666666,
              "#ed7953"
             ],
             [
              0.7777777777777778,
              "#fb9f3a"
             ],
             [
              0.8888888888888888,
              "#fdca26"
             ],
             [
              1,
              "#f0f921"
             ]
            ],
            "type": "heatmap"
           }
          ],
          "heatmapgl": [
           {
            "colorbar": {
             "outlinewidth": 0,
             "ticks": ""
            },
            "colorscale": [
             [
              0,
              "#0d0887"
             ],
             [
              0.1111111111111111,
              "#46039f"
             ],
             [
              0.2222222222222222,
              "#7201a8"
             ],
             [
              0.3333333333333333,
              "#9c179e"
             ],
             [
              0.4444444444444444,
              "#bd3786"
             ],
             [
              0.5555555555555556,
              "#d8576b"
             ],
             [
              0.6666666666666666,
              "#ed7953"
             ],
             [
              0.7777777777777778,
              "#fb9f3a"
             ],
             [
              0.8888888888888888,
              "#fdca26"
             ],
             [
              1,
              "#f0f921"
             ]
            ],
            "type": "heatmapgl"
           }
          ],
          "histogram": [
           {
            "marker": {
             "pattern": {
              "fillmode": "overlay",
              "size": 10,
              "solidity": 0.2
             }
            },
            "type": "histogram"
           }
          ],
          "histogram2d": [
           {
            "colorbar": {
             "outlinewidth": 0,
             "ticks": ""
            },
            "colorscale": [
             [
              0,
              "#0d0887"
             ],
             [
              0.1111111111111111,
              "#46039f"
             ],
             [
              0.2222222222222222,
              "#7201a8"
             ],
             [
              0.3333333333333333,
              "#9c179e"
             ],
             [
              0.4444444444444444,
              "#bd3786"
             ],
             [
              0.5555555555555556,
              "#d8576b"
             ],
             [
              0.6666666666666666,
              "#ed7953"
             ],
             [
              0.7777777777777778,
              "#fb9f3a"
             ],
             [
              0.8888888888888888,
              "#fdca26"
             ],
             [
              1,
              "#f0f921"
             ]
            ],
            "type": "histogram2d"
           }
          ],
          "histogram2dcontour": [
           {
            "colorbar": {
             "outlinewidth": 0,
             "ticks": ""
            },
            "colorscale": [
             [
              0,
              "#0d0887"
             ],
             [
              0.1111111111111111,
              "#46039f"
             ],
             [
              0.2222222222222222,
              "#7201a8"
             ],
             [
              0.3333333333333333,
              "#9c179e"
             ],
             [
              0.4444444444444444,
              "#bd3786"
             ],
             [
              0.5555555555555556,
              "#d8576b"
             ],
             [
              0.6666666666666666,
              "#ed7953"
             ],
             [
              0.7777777777777778,
              "#fb9f3a"
             ],
             [
              0.8888888888888888,
              "#fdca26"
             ],
             [
              1,
              "#f0f921"
             ]
            ],
            "type": "histogram2dcontour"
           }
          ],
          "mesh3d": [
           {
            "colorbar": {
             "outlinewidth": 0,
             "ticks": ""
            },
            "type": "mesh3d"
           }
          ],
          "parcoords": [
           {
            "line": {
             "colorbar": {
              "outlinewidth": 0,
              "ticks": ""
             }
            },
            "type": "parcoords"
           }
          ],
          "pie": [
           {
            "automargin": true,
            "type": "pie"
           }
          ],
          "scatter": [
           {
            "fillpattern": {
             "fillmode": "overlay",
             "size": 10,
             "solidity": 0.2
            },
            "type": "scatter"
           }
          ],
          "scatter3d": [
           {
            "line": {
             "colorbar": {
              "outlinewidth": 0,
              "ticks": ""
             }
            },
            "marker": {
             "colorbar": {
              "outlinewidth": 0,
              "ticks": ""
             }
            },
            "type": "scatter3d"
           }
          ],
          "scattercarpet": [
           {
            "marker": {
             "colorbar": {
              "outlinewidth": 0,
              "ticks": ""
             }
            },
            "type": "scattercarpet"
           }
          ],
          "scattergeo": [
           {
            "marker": {
             "colorbar": {
              "outlinewidth": 0,
              "ticks": ""
             }
            },
            "type": "scattergeo"
           }
          ],
          "scattergl": [
           {
            "marker": {
             "colorbar": {
              "outlinewidth": 0,
              "ticks": ""
             }
            },
            "type": "scattergl"
           }
          ],
          "scattermapbox": [
           {
            "marker": {
             "colorbar": {
              "outlinewidth": 0,
              "ticks": ""
             }
            },
            "type": "scattermapbox"
           }
          ],
          "scatterpolar": [
           {
            "marker": {
             "colorbar": {
              "outlinewidth": 0,
              "ticks": ""
             }
            },
            "type": "scatterpolar"
           }
          ],
          "scatterpolargl": [
           {
            "marker": {
             "colorbar": {
              "outlinewidth": 0,
              "ticks": ""
             }
            },
            "type": "scatterpolargl"
           }
          ],
          "scatterternary": [
           {
            "marker": {
             "colorbar": {
              "outlinewidth": 0,
              "ticks": ""
             }
            },
            "type": "scatterternary"
           }
          ],
          "surface": [
           {
            "colorbar": {
             "outlinewidth": 0,
             "ticks": ""
            },
            "colorscale": [
             [
              0,
              "#0d0887"
             ],
             [
              0.1111111111111111,
              "#46039f"
             ],
             [
              0.2222222222222222,
              "#7201a8"
             ],
             [
              0.3333333333333333,
              "#9c179e"
             ],
             [
              0.4444444444444444,
              "#bd3786"
             ],
             [
              0.5555555555555556,
              "#d8576b"
             ],
             [
              0.6666666666666666,
              "#ed7953"
             ],
             [
              0.7777777777777778,
              "#fb9f3a"
             ],
             [
              0.8888888888888888,
              "#fdca26"
             ],
             [
              1,
              "#f0f921"
             ]
            ],
            "type": "surface"
           }
          ],
          "table": [
           {
            "cells": {
             "fill": {
              "color": "#EBF0F8"
             },
             "line": {
              "color": "white"
             }
            },
            "header": {
             "fill": {
              "color": "#C8D4E3"
             },
             "line": {
              "color": "white"
             }
            },
            "type": "table"
           }
          ]
         },
         "layout": {
          "annotationdefaults": {
           "arrowcolor": "#2a3f5f",
           "arrowhead": 0,
           "arrowwidth": 1
          },
          "autotypenumbers": "strict",
          "coloraxis": {
           "colorbar": {
            "outlinewidth": 0,
            "ticks": ""
           }
          },
          "colorscale": {
           "diverging": [
            [
             0,
             "#8e0152"
            ],
            [
             0.1,
             "#c51b7d"
            ],
            [
             0.2,
             "#de77ae"
            ],
            [
             0.3,
             "#f1b6da"
            ],
            [
             0.4,
             "#fde0ef"
            ],
            [
             0.5,
             "#f7f7f7"
            ],
            [
             0.6,
             "#e6f5d0"
            ],
            [
             0.7,
             "#b8e186"
            ],
            [
             0.8,
             "#7fbc41"
            ],
            [
             0.9,
             "#4d9221"
            ],
            [
             1,
             "#276419"
            ]
           ],
           "sequential": [
            [
             0,
             "#0d0887"
            ],
            [
             0.1111111111111111,
             "#46039f"
            ],
            [
             0.2222222222222222,
             "#7201a8"
            ],
            [
             0.3333333333333333,
             "#9c179e"
            ],
            [
             0.4444444444444444,
             "#bd3786"
            ],
            [
             0.5555555555555556,
             "#d8576b"
            ],
            [
             0.6666666666666666,
             "#ed7953"
            ],
            [
             0.7777777777777778,
             "#fb9f3a"
            ],
            [
             0.8888888888888888,
             "#fdca26"
            ],
            [
             1,
             "#f0f921"
            ]
           ],
           "sequentialminus": [
            [
             0,
             "#0d0887"
            ],
            [
             0.1111111111111111,
             "#46039f"
            ],
            [
             0.2222222222222222,
             "#7201a8"
            ],
            [
             0.3333333333333333,
             "#9c179e"
            ],
            [
             0.4444444444444444,
             "#bd3786"
            ],
            [
             0.5555555555555556,
             "#d8576b"
            ],
            [
             0.6666666666666666,
             "#ed7953"
            ],
            [
             0.7777777777777778,
             "#fb9f3a"
            ],
            [
             0.8888888888888888,
             "#fdca26"
            ],
            [
             1,
             "#f0f921"
            ]
           ]
          },
          "colorway": [
           "#636efa",
           "#EF553B",
           "#00cc96",
           "#ab63fa",
           "#FFA15A",
           "#19d3f3",
           "#FF6692",
           "#B6E880",
           "#FF97FF",
           "#FECB52"
          ],
          "font": {
           "color": "#2a3f5f"
          },
          "geo": {
           "bgcolor": "white",
           "lakecolor": "white",
           "landcolor": "#E5ECF6",
           "showlakes": true,
           "showland": true,
           "subunitcolor": "white"
          },
          "hoverlabel": {
           "align": "left"
          },
          "hovermode": "closest",
          "mapbox": {
           "style": "light"
          },
          "paper_bgcolor": "white",
          "plot_bgcolor": "#E5ECF6",
          "polar": {
           "angularaxis": {
            "gridcolor": "white",
            "linecolor": "white",
            "ticks": ""
           },
           "bgcolor": "#E5ECF6",
           "radialaxis": {
            "gridcolor": "white",
            "linecolor": "white",
            "ticks": ""
           }
          },
          "scene": {
           "xaxis": {
            "backgroundcolor": "#E5ECF6",
            "gridcolor": "white",
            "gridwidth": 2,
            "linecolor": "white",
            "showbackground": true,
            "ticks": "",
            "zerolinecolor": "white"
           },
           "yaxis": {
            "backgroundcolor": "#E5ECF6",
            "gridcolor": "white",
            "gridwidth": 2,
            "linecolor": "white",
            "showbackground": true,
            "ticks": "",
            "zerolinecolor": "white"
           },
           "zaxis": {
            "backgroundcolor": "#E5ECF6",
            "gridcolor": "white",
            "gridwidth": 2,
            "linecolor": "white",
            "showbackground": true,
            "ticks": "",
            "zerolinecolor": "white"
           }
          },
          "shapedefaults": {
           "line": {
            "color": "#2a3f5f"
           }
          },
          "ternary": {
           "aaxis": {
            "gridcolor": "white",
            "linecolor": "white",
            "ticks": ""
           },
           "baxis": {
            "gridcolor": "white",
            "linecolor": "white",
            "ticks": ""
           },
           "bgcolor": "#E5ECF6",
           "caxis": {
            "gridcolor": "white",
            "linecolor": "white",
            "ticks": ""
           }
          },
          "title": {
           "x": 0.05
          },
          "xaxis": {
           "automargin": true,
           "gridcolor": "white",
           "linecolor": "white",
           "ticks": "",
           "title": {
            "standoff": 15
           },
           "zerolinecolor": "white",
           "zerolinewidth": 2
          },
          "yaxis": {
           "automargin": true,
           "gridcolor": "white",
           "linecolor": "white",
           "ticks": "",
           "title": {
            "standoff": 15
           },
           "zerolinecolor": "white",
           "zerolinewidth": 2
          }
         }
        },
        "title": {
         "text": "Total Impact Sankey Diagram:\nCombine Methods Compsition, Combine Methods Disposal"
        }
       }
      }
     },
     "metadata": {},
     "output_type": "display_data"
    }
   ],
   "source": [
    "graph_pairs = [(0, 0), (3, 5), (3, 4)]\n",
    "for pair in graph_pairs:\n",
    "    waste_method_labels, waste_composition_labels\n",
    "    title = 'Total Impact Sankey Diagram:\\n' + waste_composition_labels[pair[0]] + ' Compsition, ' + waste_method_labels[pair[1]] + \" Disposal\"\n",
    "    print(title)\n",
    "    plot_sankey(waste_compositions[pair[0]], waste_methods[pair[1]], impact_co2_total_20, impact_cost, title)"
   ]
  },
  {
   "cell_type": "markdown",
   "metadata": {},
   "source": [
    "## Impact Matrices Heatmaps"
   ]
  },
  {
   "cell_type": "markdown",
   "metadata": {},
   "source": []
  }
 ],
 "metadata": {
  "kernelspec": {
   "display_name": "Python 3",
   "language": "python",
   "name": "python3"
  },
  "language_info": {
   "codemirror_mode": {
    "name": "ipython",
    "version": 3
   },
   "file_extension": ".py",
   "mimetype": "text/x-python",
   "name": "python",
   "nbconvert_exporter": "python",
   "pygments_lexer": "ipython3",
   "version": "3.11.4"
  }
 },
 "nbformat": 4,
 "nbformat_minor": 2
}
