{
 "cells": [
  {
   "cell_type": "markdown",
   "metadata": {},
   "source": [
    "# Hospital Waste Management LCA"
   ]
  },
  {
   "cell_type": "code",
   "execution_count": 2,
   "metadata": {},
   "outputs": [],
   "source": [
    "import pandas as pd\n",
    "import olca_ipc as olca\n",
    "import uuid\n",
    "import math\n",
    "from datetime import datetime\n",
    "import numpy as np\n",
    "import sys\n",
    "\n",
    "# from matplotlib import pyplot as plt\n",
    "# import matplotlib.mlab as mlab\n",
    "# from matplotlib import rcParams\n",
    "# import matplotlib.patches as mpatches\n",
    "# import seaborn as sns"
   ]
  },
  {
   "cell_type": "markdown",
   "metadata": {},
   "source": [
    "## Preliminary assumptions\n",
    "\n",
    "For this, we choose to ignore the impacts of transporting waste from the hospital to the various disposal facilities. This is because we are focusing on large hospitals that are located in cities with these facilities easily accessible. Because of the locality of these facilities, we ignore the social, econonmic, and environmental impacts of the transportation."
   ]
  },
  {
   "cell_type": "markdown",
   "metadata": {},
   "source": [
    "## Waste Stream Composition Scenarios"
   ]
  },
  {
   "cell_type": "code",
   "execution_count": 3,
   "metadata": {},
   "outputs": [],
   "source": [
    "# types of waste\n",
    "# Columns (must sum to 1.0):\n",
    "# 0 - Hard plastic\n",
    "# 1 - Soft plastic\n",
    "# 2 - Paper\n",
    "# 3 - Food\n",
    "# 4 - Textiles\n",
    "# 5 - Glass\n",
    "# 6 - Metal\n",
    "# 7 - Electronic waste\n",
    "# 8 - Sharps\n",
    "\n",
    "def normalize(arr):\n",
    "    return arr / arr.sum()\n",
    "\n",
    "# Baseline Input Scenario 0 (From Hsu et al., 2020)\n",
    "waste_compsition_0 = np.array([0.195, 0.451, 0.184, 0.062, 0.035, 0.012, 0.004, 0.001, 0.036])\n",
    "waste_compsition_0 = normalize(waste_compsition_0)\n",
    "\n",
    "# Data from Aarushi will go here\n",
    "\n",
    "# Input Scenario 1\n",
    "waste_compsition_1 = np.array([0.4, 0.2, 0.2, 0.1, 0.02, 0.08])\n",
    "\n",
    "# Input Scenario 2\n",
    "waste_compsition_2 = np.array([0.4, 0.2, 0.2, 0.1, 0.02, 0.08])"
   ]
  },
  {
   "cell_type": "markdown",
   "metadata": {},
   "source": [
    "## Hazardous Waste Proportion Minimum"
   ]
  },
  {
   "cell_type": "code",
   "execution_count": 4,
   "metadata": {},
   "outputs": [
    {
     "name": "stdout",
     "output_type": "stream",
     "text": [
      "[1. 1. 1. 1. 1. 1. 1. 1. 1.]\n"
     ]
    }
   ],
   "source": [
    "# types of waste\n",
    "# Columns (must sum to 1.0):\n",
    "# 0 - Hard plastic\n",
    "# 1 - Soft plastic\n",
    "# 2 - Paper\n",
    "# 3 - Food\n",
    "# 4 - Textiles\n",
    "# 5 - Glass\n",
    "# 6 - Metal\n",
    "# 7 - Electronic waste\n",
    "# 8 - Sharps\n",
    "\n",
    "# Baseline all waste is treated as hazardous\n",
    "hazard_prop_0 = np.array([1.0] * 9)\n",
    "print(hazard_prop_0)"
   ]
  },
  {
   "cell_type": "markdown",
   "metadata": {},
   "source": [
    "## Waste Disposal Method Scenarios"
   ]
  },
  {
   "cell_type": "code",
   "execution_count": 30,
   "metadata": {},
   "outputs": [],
   "source": [
    "# Waste Disposal Methods\n",
    "# Rows:\n",
    "# 0 - Proportion to Landfill\n",
    "# 1 - Proportion to Recycling\n",
    "# 2 - Proportion to WtE\n",
    "# 3 - Proportion to Composting\n",
    "# 4 - Proportion to Incinerator\n",
    "# Columns (must sum to 1.0):\n",
    "# 0 - Hard plastic\n",
    "# 1 - Soft plastic\n",
    "# 2 - Paper\n",
    "# 3 - Food\n",
    "# 4 - Textiles\n",
    "# 5 - Glass\n",
    "# 6 - Metal\n",
    "# 7 - Electronic waste\n",
    "# 8 - Sharps\n",
    "\n",
    "# Data must be decided on by the team\n",
    "\n",
    "# Worst-case method 0 (all landfill, hazardous waste to incinerators)\n",
    "waste_treatment_0 = np.array([[1.00, 1.00, 1.00, 1.00, 1.00, 1.00, 1.00, 1.00, 1.00],\n",
    "                              [0.00, 0.00, 0.00, 0.00, 0.00, 0.00, 0.00, 0.00, 0.00],\n",
    "                              [0.00, 0.00, 0.00, 0.00, 0.00, 0.00, 0.00, 0.00, 0.00],\n",
    "                              [0.00, 0.00, 0.00, 0.00, 0.00, 0.00, 0.00, 0.00, 0.00],\n",
    "                              [0.00, 0.00, 0.00, 0.00, 0.00, 0.00, 0.00, 0.00, 0.00],\n",
    "                              [0.00, 0.00, 0.00, 0.00, 0.00, 0.00, 0.00, 0.00, 0.00]])\n",
    "\n",
    "# Waste treatment method 1\n",
    "waste_treatment_1 = np.array([[1.00, 1.00, 1.00, 1.00, 1.00, 1.00, 1.00, 1.00, 1.00],\n",
    "                              [0.00, 0.00, 0.00, 0.00, 0.00, 0.00, 0.00, 0.00, 0.00],\n",
    "                              [0.00, 0.00, 0.00, 0.00, 0.00, 0.00, 0.00, 0.00, 0.00],\n",
    "                              [0.00, 0.00, 0.00, 0.00, 0.00, 0.00, 0.00, 0.00, 0.00],\n",
    "                              [0.00, 0.00, 0.00, 0.00, 0.00, 0.00, 0.00, 0.00, 0.00],\n",
    "                              [0.00, 0.00, 0.00, 0.00, 0.00, 0.00, 0.00, 0.00, 0.00]])\n",
    "# Waste treatment method 2\n",
    "waste_treatment_2 = np.array([[1.00, 1.00, 1.00, 1.00, 1.00, 1.00, 1.00, 1.00, 1.00],\n",
    "                              [0.00, 0.00, 0.00, 0.00, 0.00, 0.00, 0.00, 0.00, 0.00],\n",
    "                              [0.00, 0.00, 0.00, 0.00, 0.00, 0.00, 0.00, 0.00, 0.00],\n",
    "                              [0.00, 0.00, 0.00, 0.00, 0.00, 0.00, 0.00, 0.00, 0.00],\n",
    "                              [0.00, 0.00, 0.00, 0.00, 0.00, 0.00, 0.00, 0.00, 0.00],\n",
    "                              [0.00, 0.00, 0.00, 0.00, 0.00, 0.00, 0.00, 0.00, 0.00]])"
   ]
  },
  {
   "cell_type": "markdown",
   "metadata": {},
   "source": [
    "## Impact Factor Variables"
   ]
  },
  {
   "cell_type": "code",
   "execution_count": 31,
   "metadata": {},
   "outputs": [
    {
     "name": "stderr",
     "output_type": "stream",
     "text": [
      "C:\\Users\\Astro\\AppData\\Local\\Temp\\ipykernel_18736\\722741163.py:57: RuntimeWarning: overflow encountered in multiply\n",
      "  impact_total  = social_cost_carbon * impact_co2_eq + impact_cost\n"
     ]
    }
   ],
   "source": [
    "# Emissions Factors\n",
    "# Rows:\n",
    "# 0 - Landfill\n",
    "# 1 - Recycling\n",
    "# 2 - WtE (incineration)\n",
    "# 3 - Composting\n",
    "# 4 - Incinerator\n",
    "# 5 - Sanitize and Reuse\n",
    "# Columns:\n",
    "# 0 - Hard plastic (HDPE)\n",
    "# 1 - Soft plastic (LDPE)\n",
    "# 2 - Paper\n",
    "# 3 - Food\n",
    "# 4 - Textiles\n",
    "# 5 - Glass\n",
    "# 6 - Metal\n",
    "# 7 - Electronic waste\n",
    "# 8 - Sharps\n",
    "\n",
    "# Data must be found for 'impact_cost' and 'impact_co2_eq'. 'impact_community' can be decided upon subjectively\n",
    "\n",
    "inf = sys.float_info.max\n",
    "\n",
    "# Social cost of carbon (USD/ton CO2-eq)\n",
    "social_cost_carbon = 190.0\n",
    "\n",
    "# Cost of process (values in $/short ton waste)\n",
    "impact_cost = np.array([[73.45, 73.45, 73.45, 73.45, 73.45, 73.45, 73.45, 73.45, 73.45],\n",
    "                        [106.0, 106.0, 106.0, 106.0, 106.0, 106.0, 106.0, 106.0, 106.0],\n",
    "                        [63.69, 63.69, 63.69, 63.69, 63.69, 63.69, 63.69, 63.69, 63.69],\n",
    "                        [67.53, 67.53, 67.53, 67.53, 67.53, 67.53, 67.53, 67.53, 67.53],\n",
    "                        [63.69, 63.69, 63.69, 63.69, 63.69, 63.69, 63.69, 63.69, 63.69],\n",
    "                        [997.9, 997.9, 997.9, 997.9, 997.9, 997.9, 997.9, 997.9, 997.9]])\n",
    "\n",
    "# CO2 Emissions of process (ton CO2-eq/short ton waste)\n",
    "impact_co2_eq = np.array([[0.02, 0.02, 0.80, 0.58, 0.02, 0.02, 0.02, 0.02, 0.02],\n",
    "                          [0.21,  inf, 0.07,  inf,  inf, 0.05, 0.23,  inf, 0.32],\n",
    "                          [2.80, 2.80, 0.05, 0.05, 1.68, 0.01, 0.01,  inf, 0.01],\n",
    "                          [ inf,  inf,  inf, 0.15,  inf,  inf,  inf,  inf,  inf],\n",
    "                          [2.80, 2.80, 0.05, 0.05, 1.68, 0.01, 0.01,  inf, 0.01],\n",
    "# TODO: need data for the emissions profile from sanitization of materials\n",
    "                          [0.02, 0.02, 0.80, 0.58, 0.02, 0.02, 0.02, 0.02, 0.02]])\n",
    "\n",
    "# TODO: Need to get values for this\n",
    "# Waste mass  (ton CO2-eq/short ton waste)\n",
    "impact_mass   = np.array([[0.02, 0.02, 0.80, 0.58, 0.02, 0.02, 0.02, 0.02, 0.02],\n",
    "                          [0.21,  inf, 0.07,  inf,  inf, 0.05, 0.23,  inf, 0.32],\n",
    "                          [2.80, 2.80, 0.05, 0.05, 1.68, 0.01, 0.01,  inf, 0.01],\n",
    "                          [ inf,  inf,  inf, 0.15,  inf,  inf,  inf,  inf,  inf],\n",
    "                          [2.80, 2.80, 0.05, 0.05, 1.68, 0.01, 0.01,  inf, 0.01],\n",
    "                          [0.02, 0.02, 0.80, 0.58, 0.02, 0.02, 0.02, 0.02, 0.02]])\n",
    "\n",
    "# TODO: Need to get values for this\n",
    "# Energy impact  (MW/short ton waste)\n",
    "impact_energy   = np.array([[0.02, 0.02, 0.80, 0.58, 0.02, 0.02, 0.02, 0.02, 0.02],\n",
    "                            [0.21,  inf, 0.07,  inf,  inf, 0.05, 0.23,  inf, 0.32],\n",
    "                            [2.80, 2.80, 0.05, 0.05, 1.68, 0.01, 0.01,  inf, 0.01],\n",
    "                            [ inf,  inf,  inf, 0.15,  inf,  inf,  inf,  inf,  inf],\n",
    "                            [2.80, 2.80, 0.05, 0.05, 1.68, 0.01, 0.01,  inf, 0.01],\n",
    "                            [0.02, 0.02, 0.80, 0.58, 0.02, 0.02, 0.02, 0.02, 0.02]])\n",
    "\n",
    "# dry digestate with curing []\n",
    "# wet digestate with curing []\n",
    "\n",
    "# Community impact of process\n",
    "impact_total  = social_cost_carbon * impact_co2_eq + impact_cost"
   ]
  },
  {
   "cell_type": "markdown",
   "metadata": {},
   "source": [
    "Municipal Solid Waste (MSW) Landfill\t$60.34\n",
    "MSW Recycling Center\t$52.33\n",
    "MSW Waste-to-Energy Facility\t$102.13\n",
    "Composting Facility\t$20-$80\n",
    "Incinerator Facility\t$100-$200"
   ]
  },
  {
   "cell_type": "markdown",
   "metadata": {},
   "source": [
    "Data sources:\n",
    "\n",
    "Tipping fees:\n",
    "* Tipping fee (landfill, PA, 2020): https://assets.website-files.com/602b605a94315c491a4fb4b8/610aed49f0ef85f4566dbe3f_Tipping-Fees-Data-Summary%20Jan%202021.pdf\n",
    "* Tipping fee (recycling, PA): https://www.phila.gov/media/20210614135759/Municipal-Waste-Management-Plan-appendix-C.pdf\n",
    "* WtE Facility, PA: https://www.covanta.com/where-we-are/our-facilities/plymouth\n",
    "* Composting (to energy, PA): https://www.phila.gov/media/20210614135413/Municipal-Waste-Management-Plan-202010.pdf\n",
    "* https://kleinmanenergy.upenn.edu/research/publications/powering-our-future-with-trash/ \n",
    "* Autoclave cost: https://www.sciencedirect.com/science/article/pii/S0956053X12004606\n",
    "\n",
    "Emissions data:\n",
    "* Plastic types (https://www.ncbi.nlm.nih.gov/pmc/articles/PMC7151894/)\n",
    "* GHG 2022 Emission factors (https://www.epa.gov/climateleadership/ghg-emission-factors-hub)\n",
    "* \n",
    "* \n",
    "\n",
    "Social Cost of Carbon:\n",
    "* https://www.brookings.edu/articles/what-is-the-social-cost-of-carbon/#:~:text=The%20social%20cost%20of%20carbon%20(SCC)%20is%20an%20estimate%20of,a%20ton%20of%20carbon%20emissions.\n",
    "* https://www.epa.gov/system/files/documents/2022-11/epa_scghg_report_draft_0.pdf"
   ]
  },
  {
   "cell_type": "code",
   "execution_count": 32,
   "metadata": {},
   "outputs": [],
   "source": [
    "disposal_method_names = [\"Landfill\", \"Recycling\", \"Waste-to-Energy\", \"Composting\", \"Incineration\", \"Reuse\"]\n",
    "composition_type_names = [\"Hard plastic\", \"Soft plastic\", \"Paper\", \"Food\", \"Textiles\", \"Glass\", \"Metal\", \"Electronic waste\", \"Sharps\"]"
   ]
  },
  {
   "cell_type": "code",
   "execution_count": 33,
   "metadata": {},
   "outputs": [],
   "source": [
    "def assess_impact(composition, methods, factors, name=None):\n",
    "    print(composition.shape, methods.shape, factors.shape)\n",
    "    final_impact_matrix = (composition * methods) * factors\n",
    "    verbose = name != None\n",
    "    if verbose:\n",
    "        print(\"-\" * 50)\n",
    "        print(\"Analyzing Scenario: \" + str(name) + '\\n------------------------\\n')\n",
    "        print(final_impact_matrix)\n",
    "        print(\"\\nTotal \" + str(name) + \": \" + str(sum(sum(final_impact_matrix)).round(3)) + \" per ton waste\")\n",
    "        print(\"\\n\\tBreakdown per ton:\\n\\t------------------------------\")\n",
    "        for i in range(len(disposal_method_names)):\n",
    "            print('\\t' + (disposal_method_names[i] + \" \" + name).ljust(24) + str(sum(final_impact_matrix[i]).round(3)))\n",
    "        print()\n",
    "        for i in range(len(composition_type_names)):\n",
    "            print('\\t' + (composition_type_names[i] + \" \" + name).ljust(24) + str(sum(final_impact_matrix)[i].round(3)))\n",
    "        print()\n",
    "        print(\"-\" * 50)\n",
    "    return final_impact_matrix"
   ]
  },
  {
   "cell_type": "code",
   "execution_count": 34,
   "metadata": {},
   "outputs": [
    {
     "name": "stdout",
     "output_type": "stream",
     "text": [
      "(9,) (6, 9) (6, 9)\n",
      "--------------------------------------------------\n",
      "Analyzing Scenario: Cost\n",
      "------------------------\n",
      "\n",
      "[[14.61505102 33.8019898  13.79061224  4.64683673  2.62321429  0.89938776\n",
      "   0.29979592  0.07494898  2.69816327]\n",
      " [ 0.          0.          0.          0.          0.          0.\n",
      "   0.          0.          0.        ]\n",
      " [ 0.          0.          0.          0.          0.          0.\n",
      "   0.          0.          0.        ]\n",
      " [ 0.          0.          0.          0.          0.          0.\n",
      "   0.          0.          0.        ]\n",
      " [ 0.          0.          0.          0.          0.          0.\n",
      "   0.          0.          0.        ]\n",
      " [ 0.          0.          0.          0.          0.          0.\n",
      "   0.          0.          0.        ]]\n",
      "\n",
      "Total Cost: 73.45 per ton waste\n",
      "\n",
      "\tBreakdown per ton:\n",
      "\t------------------------------\n",
      "\tLandfill Cost           73.45\n",
      "\tRecycling Cost          0.0\n",
      "\tWaste-to-Energy Cost    0.0\n",
      "\tComposting Cost         0.0\n",
      "\tIncineration Cost       0.0\n",
      "\tReuse Cost              0.0\n",
      "\n",
      "\tHard plastic Cost       14.615\n",
      "\tSoft plastic Cost       33.802\n",
      "\tPaper Cost              13.791\n",
      "\tFood Cost               4.647\n",
      "\tTextiles Cost           2.623\n",
      "\tGlass Cost              0.899\n",
      "\tMetal Cost              0.3\n",
      "\tElectronic waste Cost   0.075\n",
      "\tSharps Cost             2.698\n",
      "\n",
      "--------------------------------------------------\n"
     ]
    }
   ],
   "source": [
    "cost_assessment = assess_impact(waste_compsition_0, waste_treatment_0, impact_cost, name='Cost')"
   ]
  },
  {
   "cell_type": "code",
   "execution_count": 35,
   "metadata": {},
   "outputs": [
    {
     "name": "stdout",
     "output_type": "stream",
     "text": [
      "(9,) (6, 9) (6, 9)\n",
      "--------------------------------------------------\n",
      "Analyzing Scenario: CO2\n",
      "------------------------\n",
      "\n",
      "[[3.97959184e-03 9.20408163e-03 1.50204082e-01 3.66938776e-02\n",
      "  7.14285714e-04 2.44897959e-04 8.16326531e-05 2.04081633e-05\n",
      "  7.34693878e-04]\n",
      " [0.00000000e+00 0.00000000e+00 0.00000000e+00 0.00000000e+00\n",
      "  0.00000000e+00 0.00000000e+00 0.00000000e+00 0.00000000e+00\n",
      "  0.00000000e+00]\n",
      " [0.00000000e+00 0.00000000e+00 0.00000000e+00 0.00000000e+00\n",
      "  0.00000000e+00 0.00000000e+00 0.00000000e+00 0.00000000e+00\n",
      "  0.00000000e+00]\n",
      " [0.00000000e+00 0.00000000e+00 0.00000000e+00 0.00000000e+00\n",
      "  0.00000000e+00 0.00000000e+00 0.00000000e+00 0.00000000e+00\n",
      "  0.00000000e+00]\n",
      " [0.00000000e+00 0.00000000e+00 0.00000000e+00 0.00000000e+00\n",
      "  0.00000000e+00 0.00000000e+00 0.00000000e+00 0.00000000e+00\n",
      "  0.00000000e+00]\n",
      " [0.00000000e+00 0.00000000e+00 0.00000000e+00 0.00000000e+00\n",
      "  0.00000000e+00 0.00000000e+00 0.00000000e+00 0.00000000e+00\n",
      "  0.00000000e+00]]\n",
      "\n",
      "Total CO2: 0.202 per ton waste\n",
      "\n",
      "\tBreakdown per ton:\n",
      "\t------------------------------\n",
      "\tLandfill CO2            0.202\n",
      "\tRecycling CO2           0.0\n",
      "\tWaste-to-Energy CO2     0.0\n",
      "\tComposting CO2          0.0\n",
      "\tIncineration CO2        0.0\n",
      "\tReuse CO2               0.0\n",
      "\n",
      "\tHard plastic CO2        0.004\n",
      "\tSoft plastic CO2        0.009\n",
      "\tPaper CO2               0.15\n",
      "\tFood CO2                0.037\n",
      "\tTextiles CO2            0.001\n",
      "\tGlass CO2               0.0\n",
      "\tMetal CO2               0.0\n",
      "\tElectronic waste CO2    0.0\n",
      "\tSharps CO2              0.001\n",
      "\n",
      "--------------------------------------------------\n"
     ]
    }
   ],
   "source": [
    "co2_assessment = assess_impact(waste_compsition_0, waste_treatment_0, impact_co2_eq, name='CO2')"
   ]
  },
  {
   "cell_type": "code",
   "execution_count": 36,
   "metadata": {},
   "outputs": [
    {
     "name": "stdout",
     "output_type": "stream",
     "text": [
      "(9,) (6, 9) (6, 9)\n",
      "--------------------------------------------------\n",
      "Analyzing Scenario: Total Cost\n",
      "------------------------\n",
      "\n",
      "[[15.37117347 35.55076531 42.32938776 11.61867347  2.75892857  0.94591837\n",
      "   0.31530612  0.07882653  2.8377551 ]\n",
      " [ 0.                 nan  0.                 nan         nan  0.\n",
      "   0.                 nan  0.        ]\n",
      " [ 0.          0.          0.          0.          0.          0.\n",
      "   0.                 nan  0.        ]\n",
      " [        nan         nan         nan  0.                 nan         nan\n",
      "          nan         nan         nan]\n",
      " [ 0.          0.          0.          0.          0.          0.\n",
      "   0.                 nan  0.        ]\n",
      " [ 0.          0.          0.          0.          0.          0.\n",
      "   0.          0.          0.        ]]\n",
      "\n",
      "Total Total Cost: nan per ton waste\n",
      "\n",
      "\tBreakdown per ton:\n",
      "\t------------------------------\n",
      "\tLandfill Total Cost     111.807\n",
      "\tRecycling Total Cost    nan\n",
      "\tWaste-to-Energy Total Costnan\n",
      "\tComposting Total Cost   nan\n",
      "\tIncineration Total Cost nan\n",
      "\tReuse Total Cost        0.0\n",
      "\n",
      "\tHard plastic Total Cost nan\n",
      "\tSoft plastic Total Cost nan\n",
      "\tPaper Total Cost        nan\n",
      "\tFood Total Cost         nan\n",
      "\tTextiles Total Cost     nan\n",
      "\tGlass Total Cost        nan\n",
      "\tMetal Total Cost        nan\n",
      "\tElectronic waste Total Costnan\n",
      "\tSharps Total Cost       nan\n",
      "\n",
      "--------------------------------------------------\n"
     ]
    },
    {
     "name": "stderr",
     "output_type": "stream",
     "text": [
      "C:\\Users\\Astro\\AppData\\Local\\Temp\\ipykernel_18736\\3382307009.py:3: RuntimeWarning: invalid value encountered in multiply\n",
      "  final_impact_matrix = (composition * methods) * factors\n"
     ]
    }
   ],
   "source": [
    "co2_assessment = assess_impact(waste_compsition_0, waste_treatment_0, impact_total, name='Total Cost')"
   ]
  },
  {
   "cell_type": "code",
   "execution_count": null,
   "metadata": {},
   "outputs": [],
   "source": []
  },
  {
   "cell_type": "code",
   "execution_count": null,
   "metadata": {},
   "outputs": [],
   "source": []
  }
 ],
 "metadata": {
  "kernelspec": {
   "display_name": "Python 3",
   "language": "python",
   "name": "python3"
  },
  "language_info": {
   "codemirror_mode": {
    "name": "ipython",
    "version": 3
   },
   "file_extension": ".py",
   "mimetype": "text/x-python",
   "name": "python",
   "nbconvert_exporter": "python",
   "pygments_lexer": "ipython3",
   "version": "3.11.4"
  }
 },
 "nbformat": 4,
 "nbformat_minor": 2
}
