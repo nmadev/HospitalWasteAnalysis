{
 "cells": [
  {
   "cell_type": "markdown",
   "metadata": {},
   "source": [
    "# Hospital Waste Management LCA"
   ]
  },
  {
   "cell_type": "code",
   "execution_count": 189,
   "metadata": {},
   "outputs": [],
   "source": [
    "import pandas as pd\n",
    "import olca_ipc as olca\n",
    "import uuid\n",
    "import math\n",
    "from datetime import datetime\n",
    "import numpy as np\n",
    "import sys\n",
    "\n",
    "# from matplotlib import pyplot as plt\n",
    "# import matplotlib.mlab as mlab\n",
    "# from matplotlib import rcParams\n",
    "# import matplotlib.patches as mpatches\n",
    "# import seaborn as sns\n",
    "\n",
    "# params = {'mathtext.default': 'regular' }\n",
    "\n",
    "# client = olca.Client(8080)\n",
    "# client"
   ]
  },
  {
   "cell_type": "markdown",
   "metadata": {},
   "source": [
    "## Preliminary assumptions\n",
    "\n",
    "For this, we choose to ignore the impacts of transporting waste from the hospital to the various disposal facilities. This is because we are focusing on large hospitals that are located in cities with these facilities easily accessible. Because of the locality of these facilities, we ignore the social, econonmic, and environmental impacts of the transportation."
   ]
  },
  {
   "cell_type": "markdown",
   "metadata": {},
   "source": [
    "## Waste Stream Composition Scenarios"
   ]
  },
  {
   "cell_type": "code",
   "execution_count": 190,
   "metadata": {},
   "outputs": [],
   "source": [
    "# types of waste\n",
    "# Columns (must sum to 1.0)\n",
    "# 0 - Plastic, single use\n",
    "# 1 - Plastic, multi use\n",
    "# 2 - Paper-based products\n",
    "# 3 - Glass-based products\n",
    "# 4 - Bio-hazardous waste\n",
    "# 5 - Organic waste, non-hazardous\n",
    "\n",
    "# Data from Aarushi will go here\n",
    "\n",
    "# Baseline Input Scenario 0\n",
    "waste_compsition_0 = np.array([0.4, 0.2, 0.2, 0.1, 0.02, 0.08])\n",
    "\n",
    "# Input Scenario 1\n",
    "waste_compsition_0 = np.array([0.4, 0.2, 0.2, 0.1, 0.02, 0.08])\n",
    "\n",
    "# Input Scenario 2\n",
    "waste_compsition_0 = np.array([0.4, 0.2, 0.2, 0.1, 0.02, 0.08])"
   ]
  },
  {
   "cell_type": "markdown",
   "metadata": {},
   "source": [
    "## Waste Disposal Method Scenarios"
   ]
  },
  {
   "cell_type": "code",
   "execution_count": 191,
   "metadata": {},
   "outputs": [],
   "source": [
    "# Waste Disposal Methods\n",
    "# Rows:\n",
    "# 0 - Proportion to Landfill\n",
    "# 1 - Proportion to Recycling\n",
    "# 2 - Proportion to WtE\n",
    "# 3 - Proportion to Composting\n",
    "# 4 - Proportion to Incinerator\n",
    "# Columns (must sum to 1.0):\n",
    "# 0 - Plastic, single use\n",
    "# 1 - Plastic, multi use\n",
    "# 2 - Paper-based products\n",
    "# 3 - Glass-based products\n",
    "# 4 - Bio-hazardous waste\n",
    "# 5 - Organic waste, non-hazardous\n",
    "\n",
    "# Data must be decided on by the team\n",
    "\n",
    "# Worst-case method 0 (all landfill, hazardous waste to incinerators)\n",
    "waste_treatment_0 = np.array([[1.00, 1.00, 1.00, 1.00, 0.00, 1.00],\n",
    "                              [0.00, 0.00, 0.00, 0.00, 0.00, 0.00],\n",
    "                              [0.00, 0.00, 0.00, 0.00, 0.00, 0.00],\n",
    "                              [0.00, 0.00, 0.00, 0.00, 0.00, 0.00],\n",
    "                              [0.00, 0.00, 0.00, 0.00, 1.00, 0.00]])\n",
    "\n",
    "# Waste treatment method 1\n",
    "waste_treatment_1 = np.array([[1.00, 1.00, 1.00, 1.00, 1.00, 0.00],\n",
    "                              [0.00, 0.00, 0.00, 0.00, 0.00, 0.00],\n",
    "                              [0.00, 0.00, 0.00, 0.00, 0.00, 0.00],\n",
    "                              [0.00, 0.00, 0.00, 0.00, 0.00, 0.00],\n",
    "                              [0.00, 0.00, 0.00, 0.00, 0.00, 1.00]])\n",
    "# Waste treatment method 2\n",
    "waste_treatment_2 = np.array([[1.00, 1.00, 1.00, 1.00, 1.00, 0.00],\n",
    "                              [0.00, 0.00, 0.00, 0.00, 0.00, 0.00],\n",
    "                              [0.00, 0.00, 0.00, 0.00, 0.00, 0.00],\n",
    "                              [0.00, 0.00, 0.00, 0.00, 0.00, 0.00],\n",
    "                              [0.00, 0.00, 0.00, 0.00, 0.00, 1.00]])"
   ]
  },
  {
   "cell_type": "markdown",
   "metadata": {},
   "source": [
    "## Impact Factor Variables"
   ]
  },
  {
   "cell_type": "code",
   "execution_count": 192,
   "metadata": {},
   "outputs": [],
   "source": [
    "# Emissions Factors\n",
    "# Rows:\n",
    "# 0 - Landfill\n",
    "# 1 - Recycling\n",
    "# 2 - WtE (incineration)\n",
    "# 3 - Composting\n",
    "# 4 - Incinerator\n",
    "# Columns:\n",
    "# 0 - Plastic, single use\n",
    "# 1 - Plastic, multi use\n",
    "# 2 - Paper-based products\n",
    "# 3 - Glass-based products\n",
    "# 4 - Bio-hazardous waste\n",
    "# 5 - Organic waste, non-hazardous\n",
    "\n",
    "# Data must be found for 'impact_cost' and 'impact_co2_eq'. 'impact_community' can be decided upon subjectively\n",
    "\n",
    "undefi = sys.float_info.max\n",
    "\n",
    "# Cost of process (values in $/short ton waste)\n",
    "impact_cost       = np.array([[73.45, 73.45, 73.45, 73.45, 73.45, 73.45],\n",
    "                              [106.0, 106.0, 106.0, 106.0, 106.0, 106.0],\n",
    "                              [63.69, 63.69, 63.69, 63.69, 63.69, 63.69],\n",
    "                              [67.53, 67.53, 67.53, 67.53, 67.53, 67.53],\n",
    "                              [63.69, 63.69, 63.69, 63.69, 63.69, 63.69]])\n",
    "\n",
    "# CO2 Emissions of process (ton CO2-eq/short ton waste)\n",
    "impact_co2_eq     = np.array([[  0.02,   0.02,   0.80,   0.02,   0.48,   0.58],\n",
    "                              [  0.22,   0.22,   0.07,   0.05, undefi, undefi],\n",
    "                              [  2.34,   2.34,   0.05,   0.01,   0.05,   0.05],\n",
    "                              [undefi, undefi, undefi, undefi,   0.17,   0.15],\n",
    "                              [  2.34,   2.34,   0.05,   0.01,   0.05,   0.05]])\n",
    "\n",
    "# dry digestate with curing []\n",
    "# wet digestate with curing []\n",
    "\n",
    "# Community impact of process\n",
    "impact_community  = np.array([[1.00, 1.00, 1.00, 1.00, 1.00, 1.00],\n",
    "                              [1.00, 1.00, 1.00, 1.00, 1.00, 1.00],\n",
    "                              [1.00, 1.00, 1.00, 1.00, 1.00, 1.00],\n",
    "                              [1.00, 1.00, 1.00, 1.00, 1.00, 1.00],\n",
    "                              [1.00, 1.00, 1.00, 1.00, 1.00, 1.00]])\n",
    "\n",
    "# Social cost of carbon (USD/ton CO2-eq)\n",
    "social_cost_carbon = 190.0"
   ]
  },
  {
   "cell_type": "markdown",
   "metadata": {},
   "source": [
    "Municipal Solid Waste (MSW) Landfill\t$60.34\n",
    "MSW Recycling Center\t$52.33\n",
    "MSW Waste-to-Energy Facility\t$102.13\n",
    "Composting Facility\t$20-$80\n",
    "Incinerator Facility\t$100-$200"
   ]
  },
  {
   "cell_type": "markdown",
   "metadata": {},
   "source": [
    "Data sources:\n",
    "\n",
    "Tipping fees:\n",
    "* Tipping fee (landfill, PA, 2020): https://assets.website-files.com/602b605a94315c491a4fb4b8/610aed49f0ef85f4566dbe3f_Tipping-Fees-Data-Summary%20Jan%202021.pdf\n",
    "* Tipping fee (recycling, PA): https://www.phila.gov/media/20210614135759/Municipal-Waste-Management-Plan-appendix-C.pdf\n",
    "* WtE Facility, PA: https://www.covanta.com/where-we-are/our-facilities/plymouth\n",
    "* Composting (to energy, PA): https://www.phila.gov/media/20210614135413/Municipal-Waste-Management-Plan-202010.pdf\n",
    "* https://kleinmanenergy.upenn.edu/research/publications/powering-our-future-with-trash/ \n",
    "\n",
    "Emissions data:\n",
    "* Plastic types (https://www.ncbi.nlm.nih.gov/pmc/articles/PMC7151894/)\n",
    "* GHG 2022 Emission factors (https://www.epa.gov/climateleadership/ghg-emission-factors-hub)\n",
    "* \n",
    "* \n",
    "\n",
    "Social Cost of Carbon:\n",
    "* https://www.brookings.edu/articles/what-is-the-social-cost-of-carbon/#:~:text=The%20social%20cost%20of%20carbon%20(SCC)%20is%20an%20estimate%20of,a%20ton%20of%20carbon%20emissions.\n",
    "* https://www.epa.gov/system/files/documents/2022-11/epa_scghg_report_draft_0.pdf"
   ]
  },
  {
   "cell_type": "code",
   "execution_count": 193,
   "metadata": {},
   "outputs": [],
   "source": [
    "disposal_method_names = [\"Landfill\", \"Recycling\", \"Waste-to-Energy\", \"Composting\", \"Incineration\"]\n",
    "composition_type_names = [\"Plastics, SU\", \"Plastics, MU\", \"Paper Products\", \"Glass Products\", \"Bio-Hazardous\", \"Organics\"]"
   ]
  },
  {
   "cell_type": "code",
   "execution_count": 194,
   "metadata": {},
   "outputs": [],
   "source": [
    "def assess_impact(composition, methods, factors, name=None):\n",
    "    final_impact_matrix = (composition * methods) * factors\n",
    "    verbose = name != None\n",
    "    if verbose:\n",
    "        print(\"-\" * 50)\n",
    "        print(\"Analyzing Scenario: \" + str(name) + '\\n------------------------\\n')\n",
    "        print(final_impact_matrix)\n",
    "        print(\"\\nTotal \" + str(name) + \": \" + str(sum(sum(final_impact_matrix)).round(3)) + \" per ton waste\")\n",
    "        print(\"\\n\\tBreakdown per ton:\\n\\t------------------------------\")\n",
    "        for i in range(len(disposal_method_names)):\n",
    "            print('\\t' + (disposal_method_names[i] + \" \" + name).ljust(24) + str(sum(final_impact_matrix[i]).round(3)))\n",
    "        print()\n",
    "        for i in range(len(composition_type_names)):\n",
    "            print('\\t' + (composition_type_names[i] + \" \" + name).ljust(24) + str(sum(final_impact_matrix)[i].round(3)))\n",
    "        print()\n",
    "        print(\"-\" * 50)\n",
    "    return final_impact_matrix"
   ]
  },
  {
   "cell_type": "code",
   "execution_count": 195,
   "metadata": {},
   "outputs": [
    {
     "name": "stdout",
     "output_type": "stream",
     "text": [
      "--------------------------------------------------\n",
      "Analyzing Scenario: Cost\n",
      "------------------------\n",
      "\n",
      "[[29.38   14.69   14.69    7.345   0.      5.876 ]\n",
      " [ 0.      0.      0.      0.      0.      0.    ]\n",
      " [ 0.      0.      0.      0.      0.      0.    ]\n",
      " [ 0.      0.      0.      0.      0.      0.    ]\n",
      " [ 0.      0.      0.      0.      1.2738  0.    ]]\n",
      "\n",
      "Total Cost: 73.255 per ton waste\n",
      "\n",
      "\tBreakdown per ton:\n",
      "\t------------------------------\n",
      "\tLandfill Cost           71.981\n",
      "\tRecycling Cost          0.0\n",
      "\tWaste-to-Energy Cost    0.0\n",
      "\tComposting Cost         0.0\n",
      "\tIncineration Cost       1.274\n",
      "\n",
      "\tPlastics, SU Cost       29.38\n",
      "\tPlastics, MU Cost       14.69\n",
      "\tPaper Products Cost     14.69\n",
      "\tGlass Products Cost     7.345\n",
      "\tBio-Hazardous Cost      1.274\n",
      "\tOrganics Cost           5.876\n",
      "\n",
      "--------------------------------------------------\n"
     ]
    }
   ],
   "source": [
    "cost_assessment = assess_impact(waste_compsition_0, waste_treatment_0, impact_cost, name='Cost')"
   ]
  },
  {
   "cell_type": "code",
   "execution_count": 196,
   "metadata": {},
   "outputs": [
    {
     "name": "stdout",
     "output_type": "stream",
     "text": [
      "--------------------------------------------------\n",
      "Analyzing Scenario: CO2\n",
      "------------------------\n",
      "\n",
      "[[0.008  0.004  0.16   0.002  0.     0.0464]\n",
      " [0.     0.     0.     0.     0.     0.    ]\n",
      " [0.     0.     0.     0.     0.     0.    ]\n",
      " [0.     0.     0.     0.     0.     0.    ]\n",
      " [0.     0.     0.     0.     0.001  0.    ]]\n",
      "\n",
      "Total CO2: 0.221 per ton waste\n",
      "\n",
      "\tBreakdown per ton:\n",
      "\t------------------------------\n",
      "\tLandfill CO2            0.22\n",
      "\tRecycling CO2           0.0\n",
      "\tWaste-to-Energy CO2     0.0\n",
      "\tComposting CO2          0.0\n",
      "\tIncineration CO2        0.001\n",
      "\n",
      "\tPlastics, SU CO2        0.008\n",
      "\tPlastics, MU CO2        0.004\n",
      "\tPaper Products CO2      0.16\n",
      "\tGlass Products CO2      0.002\n",
      "\tBio-Hazardous CO2       0.001\n",
      "\tOrganics CO2            0.046\n",
      "\n",
      "--------------------------------------------------\n"
     ]
    }
   ],
   "source": [
    "co2_assessment = assess_impact(waste_compsition_0, waste_treatment_0, impact_co2_eq, name='CO2')"
   ]
  },
  {
   "cell_type": "code",
   "execution_count": null,
   "metadata": {},
   "outputs": [],
   "source": []
  }
 ],
 "metadata": {
  "kernelspec": {
   "display_name": "Python 3",
   "language": "python",
   "name": "python3"
  },
  "language_info": {
   "codemirror_mode": {
    "name": "ipython",
    "version": 3
   },
   "file_extension": ".py",
   "mimetype": "text/x-python",
   "name": "python",
   "nbconvert_exporter": "python",
   "pygments_lexer": "ipython3",
   "version": "3.11.4"
  }
 },
 "nbformat": 4,
 "nbformat_minor": 2
}
